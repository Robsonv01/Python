{
  "nbformat": 4,
  "nbformat_minor": 0,
  "metadata": {
    "colab": {
      "provenance": []
    },
    "kernelspec": {
      "name": "python3",
      "display_name": "Python 3"
    },
    "language_info": {
      "name": "python"
    }
  },
  "cells": [
    {
      "cell_type": "markdown",
      "source": [
        "<font color='#4B8BBE' size='5'>Aula 3 - Formação em Python: Básico</font>\n",
        "<br>\n",
        "<font color='#FFD43B'>Condicionais</font>\n",
        "- Correção dos exercícios da aula anterior\n",
        "- If\n",
        "- Elif\n",
        "- Else\n",
        "- Exercícios\n",
        "\n",
        "\n",
        "\n"
      ],
      "metadata": {
        "id": "M2SrodkJp1MC"
      }
    },
    {
      "cell_type": "markdown",
      "source": [
        "### Correção dos exercícios da aula anterior"
      ],
      "metadata": {
        "id": "E-4ijWsUgTRI"
      }
    },
    {
      "cell_type": "code",
      "source": [
        "#5. Escreva um programa que converte graus Celsius em Fahrenheit. As informações dos graus devem ser inseridas pelo usuário utilizando int(input()).\n",
        "# Dica: a fórmula que representa a relação entre Celsius e Fahrenheit é temp_celsius/5 = (temp_fahrenheit – 32)/9\n",
        "\n",
        "celsius = int(input())\n",
        "fahrenheit = (celsius * 1.8) + 32\n",
        "print(fahrenheit)"
      ],
      "metadata": {
        "id": "pCvCYh9f9fIP"
      },
      "execution_count": null,
      "outputs": []
    },
    {
      "cell_type": "code",
      "source": [
        "#6. Escreva um programa que converte graus Fahrenheit em Celsius. As informações dos graus devem ser inseridas pelo usuário utilizando int(input()).\n",
        "# Dica: a fórmula que representa a relação entre Celsius e Fahrenheit é temp_celsius/5 = (temp_fahrenheit – 32)/9\n",
        "fahrenheit = int(input())\n",
        "celsius = (fahrenheit - 32)/1.8\n",
        "print(celsius)"
      ],
      "metadata": {
        "id": "K3ELuWaz-lS0"
      },
      "execution_count": null,
      "outputs": []
    },
    {
      "cell_type": "code",
      "source": [
        "#7. Escreva um programa para calcular a área e o perímetro de um retângulo. As informações dos lados devem ser inseridas pelo usuário utilizando int(input()).\n",
        "#Dica: para achar a área, deve-se multiplicar dois lados do retângulo. Para calcular o perímetro deve-se somar os lados e multiplicar por 2.\n",
        "\n",
        "lado1 = int(input())\n",
        "lado2 = int(input())\n",
        "\n",
        "area = lado1 * lado2\n",
        "perimetro = (lado1 + lado2) * 2\n",
        "\n",
        "print(area, perimetro)"
      ],
      "metadata": {
        "id": "D4SMGC5yfuqL"
      },
      "execution_count": null,
      "outputs": []
    },
    {
      "cell_type": "code",
      "source": [
        "#8. Crie um programa para converter quilômetros em milhas. As informações dos km devem ser inseridas pelo usuário utilizando int(input()).\n",
        "#Dica: 1 km = 0.6214 em milhas\n",
        "\n",
        "km = int(input())\n",
        "milhas = 0.6214 * km\n",
        "\n",
        "print(milhas)"
      ],
      "metadata": {
        "id": "feE2ciEC_RMl"
      },
      "execution_count": null,
      "outputs": []
    },
    {
      "cell_type": "code",
      "source": [
        "#9. Crie um programa para converter milhas em quilômetros. As informações dos km devem ser inseridas pelo usuário utilizando int(input()).\n",
        "#Dica: 1 milha = 1,60934 em km\n",
        "\n",
        "milha = int(input())\n",
        "km = 1.60934 * milha\n",
        "\n",
        "print(km)"
      ],
      "metadata": {
        "id": "qhkJeHQlkF6G"
      },
      "execution_count": null,
      "outputs": []
    },
    {
      "cell_type": "code",
      "source": [
        "#10. Faça um Programa que peça as 4 notas bimestrais e mostre a média.\n",
        "\n",
        "nota1 = float(input())\n",
        "nota2 = float(input())\n",
        "nota3 = float(input())\n",
        "nota4 = float(input())\n",
        "\n",
        "media = (nota1 + nota2 + nota3 + nota4)/4\n",
        "\n",
        "print(media)"
      ],
      "metadata": {
        "id": "QPfenIw6_y61"
      },
      "execution_count": null,
      "outputs": []
    },
    {
      "cell_type": "code",
      "source": [
        "#11. Faça um Programa que pergunte quanto você ganha por hora e o número de horas trabalhadas no mês.\n",
        "#Calcule e mostre o total do seu salário no referido mês.\n",
        "\n",
        "valor_hora = float(input())\n",
        "num_horas = int(input())\n",
        "\n",
        "salario = valor_hora * num_horas\n",
        "print(salario)\n"
      ],
      "metadata": {
        "id": "ILVFLvdNDCli"
      },
      "execution_count": null,
      "outputs": []
    },
    {
      "cell_type": "code",
      "source": [
        "#12. Faça um Programa que pergunte quanto você ganha por hora e o número de horas trabalhadas no mês. Calcule e mostre o total do seu salário no referido mês, sabendo-se que são descontados 11% para o Imposto de Renda, 8% para o INSS e 5% para o sindicato, faça um programa que nos dê:\n",
        "# salário bruto.\n",
        "#quanto pagou ao INSS.\n",
        "#quanto pagou ao sindicato.\n",
        "#o salário líquido.\n",
        "#calcule os descontos e o salário líquido, conforme a tabela abaixo:\n",
        "# Salário Bruto : R$\n",
        "# - IR (11%) : R$\n",
        "# - INSS (8%) : R$\n",
        "# - Sindicato ( 5%) : R$\n",
        "# Salário Liquido : R$\n",
        "\n",
        "#Obs.: Salário Bruto - Descontos = Salário Líquido.\n",
        "\n",
        "\n",
        "valor_hora = float(input())\n",
        "num_horas = int(input())\n",
        "\n",
        "salario_bruto = valor_hora * num_horas\n",
        "print(salario_bruto)\n",
        "\n",
        "ir = salario_bruto * 0.11\n",
        "inss = salario_bruto * 0.08\n",
        "sindicato = salario_bruto * 0.05\n",
        "descontos = ir + inss + sindicato\n",
        "salario_liquido = salario_bruto - descontos\n",
        "\n",
        "print(salario_liquido)"
      ],
      "metadata": {
        "id": "1ZzDFKmrRZQF"
      },
      "execution_count": null,
      "outputs": []
    },
    {
      "cell_type": "markdown",
      "source": [
        "<font color='#FFD43B' size='5'>If</font>\n",
        "<br>\n",
        "o if é uma instrução em Python que permite avaliar se uma instrução é verdadeira ou falsa."
      ],
      "metadata": {
        "id": "C18WCV4FsSth"
      }
    },
    {
      "cell_type": "code",
      "execution_count": 3,
      "metadata": {
        "id": "bqGltUktVyIF"
      },
      "outputs": [],
      "source": [
        "#aqui tem um exemplo de como utilizar o if na seguinte situação: se eu tirar uma nota baixa, serei reprovada.\n",
        "\n",
        "nota_baixa = True\n",
        "\n",
        "if nota_baixa:\n",
        "  print('Reprovada')"
      ]
    },
    {
      "cell_type": "markdown",
      "source": [
        "<font color='#FFD43B' size='5'>Elif</font>\n",
        "<br>\n",
        "o elif é uma instrução em Python que permite avaliar uma condição caso as anteriores tenham sido falsas."
      ],
      "metadata": {
        "id": "XQewlIH9aOBj"
      }
    },
    {
      "cell_type": "code",
      "source": [
        "#aqui tem um exemplo de como utilizar o if e o elif na seguinte situação:\n",
        "#se eu tirar uma nota abaixo de 6, serei reprovada, mas se eu tirar uma nota igual a 6, serei aprovada.\n",
        "\n",
        "nota = 6\n",
        "\n",
        "if nota < 6:\n",
        "  print('Reprovada')\n",
        "elif nota == 6:\n",
        "  print('Aprovada')"
      ],
      "metadata": {
        "colab": {
          "base_uri": "https://localhost:8080/"
        },
        "id": "QSA5VijGabKA",
        "outputId": "f7fb846e-7e60-47d9-f4ad-61b9046042bc"
      },
      "execution_count": null,
      "outputs": [
        {
          "output_type": "stream",
          "name": "stdout",
          "text": [
            "Aprovada\n"
          ]
        }
      ]
    },
    {
      "cell_type": "markdown",
      "source": [
        "<font color='#FFD43B' size='5'>Else</font>\n",
        "<br>\n",
        "o else é uma instrução em Python que permite abranger todas as resoluções não abordadas nas instruções if e elif anteriores."
      ],
      "metadata": {
        "id": "gefCnnxAbxoF"
      }
    },
    {
      "cell_type": "code",
      "source": [
        "#aqui tem um exemplo de como utilizar o if, elif e else na seguinte situação:\n",
        "#se eu tirar uma nota abaixo de 6, serei reprovada, mas se eu tirar uma nota igual a 6 ou maior, serei aprovada.\n",
        "\n",
        "nota = 7\n",
        "\n",
        "if nota < 6:\n",
        "  print('Reprovada')\n",
        "elif nota == 6:\n",
        "  print('Aprovada')\n",
        "else:\n",
        "  print('Aprovada')\n"
      ],
      "metadata": {
        "colab": {
          "base_uri": "https://localhost:8080/"
        },
        "outputId": "eeadb4d6-bcdb-44cf-e329-f20876827dc8",
        "id": "JEcPRT21cFho"
      },
      "execution_count": null,
      "outputs": [
        {
          "output_type": "stream",
          "name": "stdout",
          "text": [
            "Aprovada\n"
          ]
        }
      ]
    },
    {
      "cell_type": "code",
      "source": [
        "#Vamos escrever juntos um programa para checar se um número é par ou ímpar"
      ],
      "metadata": {
        "id": "oFYrfu52dD0J"
      },
      "execution_count": null,
      "outputs": []
    },
    {
      "cell_type": "code",
      "source": [
        "#Vamos escrever juntos um programa que coloca na promoção de:\n",
        "# 50% OFF todos os produtos que custam mais de R$100;\n",
        "# 25% OFF os que custam de R$50 até R$99,99;\n",
        "# 10% OFF os que custam de R$25 até R$49,99;\n",
        "# os com valores diferentes desses permanecem sem desconto.\n",
        "# O programa deverá imprimir o valor promocional.\n"
      ],
      "metadata": {
        "id": "jV6TbBCDd3jG"
      },
      "execution_count": null,
      "outputs": []
    },
    {
      "cell_type": "markdown",
      "source": [
        "<font color='#FFD43B' size='5'>Exercícios</font>"
      ],
      "metadata": {
        "id": "L6fqw9nXQaMS"
      }
    },
    {
      "cell_type": "code",
      "source": [
        "#1.Faça um Programa que peça dois números e imprima o maior deles.\n"
      ],
      "metadata": {
        "id": "lOGyvmbNQhEq"
      },
      "execution_count": null,
      "outputs": []
    },
    {
      "cell_type": "code",
      "source": [
        "#2. Faça um Programa que peça um valor e mostre na tela se o valor é positivo ou negativo."
      ],
      "metadata": {
        "id": "KJOAEXUTS4Xj"
      },
      "execution_count": null,
      "outputs": []
    },
    {
      "cell_type": "code",
      "source": [
        "#3. Faça um Programa que verifique se uma letra digitada é vogal ou consoante."
      ],
      "metadata": {
        "id": "yVNZZj1bTErm"
      },
      "execution_count": null,
      "outputs": []
    },
    {
      "cell_type": "code",
      "source": [
        "#4. Faça um programa para a leitura de duas notas parciais de um aluno. O programa deve calcular a média alcançada por aluno e apresentar:\n",
        "# A mensagem \"Aprovado\", se a média alcançada for maior ou igual a sete;\n",
        "# A mensagem \"Reprovado\", se a média for menor do que sete;\n",
        "# A mensagem \"Aprovado com Distinção\", se a média for igual a dez."
      ],
      "metadata": {
        "id": "bFnbPXQuTH57"
      },
      "execution_count": null,
      "outputs": []
    },
    {
      "cell_type": "code",
      "source": [
        "#5. Faça um Programa que leia três números e mostre o maior deles."
      ],
      "metadata": {
        "id": "VV9IXSzXTOOr"
      },
      "execution_count": null,
      "outputs": []
    },
    {
      "cell_type": "code",
      "source": [
        "#6. Faça um Programa que leia três números e mostre o menor deles."
      ],
      "metadata": {
        "id": "mW9opLD1TQ2B"
      },
      "execution_count": null,
      "outputs": []
    },
    {
      "cell_type": "code",
      "source": [
        "#7. Faça um programa que pergunte o preço de três produtos e informe qual produto você deve comprar, sabendo que a decisão é sempre pelo mais barato."
      ],
      "metadata": {
        "id": "2nHeJx_8TVuk"
      },
      "execution_count": null,
      "outputs": []
    },
    {
      "cell_type": "code",
      "source": [
        "#8. Faça um Programa que leia três números e mostre-os em ordem decrescente."
      ],
      "metadata": {
        "id": "kvLYbZAbTZmx"
      },
      "execution_count": null,
      "outputs": []
    },
    {
      "cell_type": "code",
      "source": [
        "#9. Faça um Programa que pergunte em que turno você estuda. Peça para digitar M-Matutino ou V-Vespertino ou N- Noturno. Imprima a mensagem \"Bom Dia!\", \"Boa Tarde!\"\n",
        "#ou \"Boa Noite!\" ou \"Valor Inválido!\", conforme o caso."
      ],
      "metadata": {
        "id": "bG1AP7W9Tc0h"
      },
      "execution_count": null,
      "outputs": []
    },
    {
      "cell_type": "code",
      "source": [
        "#10. Faça um programa para o cálculo de uma folha de pagamento, sabendo que os descontos são do Imposto de Renda,\n",
        "#que depende do salário bruto (conforme tabela abaixo) e 3% para o Sindicato e que o FGTS corresponde a 11% do Salário Bruto,\n",
        "#mas não é descontado (é a empresa que deposita). O Salário Líquido corresponde ao Salário Bruto menos os descontos.\n",
        "#O programa deverá pedir ao usuário o valor da sua hora e a quantidade de horas trabalhadas no mês.\n",
        "#Desconto do IR:\n",
        "# - Salário Bruto até 900 (inclusive) - isento\n",
        "# - Salário Bruto até 1500 (inclusive) - desconto de 5%\n",
        "# - Salário Bruto até 2500 (inclusive) - desconto de 10%\n",
        "# - Salário Bruto acima de 2500 - desconto de 20% Imprima na tela as informações,\n",
        "#dispostas conforme o exemplo abaixo. No exemplo o valor da hora é 5 e a quantidade de hora é 220.\n",
        "\n",
        "#            Salário Bruto: (5 * 220)        : R$ 1100,00\n",
        "#            (-) IR (5%)                     : R$   55,00\n",
        "#            (-) INSS ( 10%)                 : R$  110,00\n",
        "#            FGTS (11%)                      : R$  121,00\n",
        "#            Total de descontos              : R$  165,00\n",
        "#            Salário Liquido                 : R$  935,00\n",
        "\n",
        "\n"
      ],
      "metadata": {
        "id": "VcfuHwoqTou1"
      },
      "execution_count": null,
      "outputs": []
    },
    {
      "cell_type": "code",
      "source": [
        "#12. Faça um programa que lê as duas notas parciais obtidas por um aluno numa disciplina ao longo de um semestre, e calcule a sua média. A atribuição de conceitos obedece à tabela abaixo:\n",
        "#   Média de Aproveitamento  Conceito\n",
        "#   Entre 9.0 e 10.0        A\n",
        "#   Entre 7.5 e 9.0         B\n",
        "#   Entre 6.0 e 7.5         C\n",
        "#   Entre 4.0 e 6.0         D\n",
        "#   Entre 4.0 e zero        E\n",
        "# O algoritmo deve mostrar na tela as notas, a média, o conceito correspondente e a mensagem “APROVADO” se o conceito for A, B ou C ou “REPROVADO” se o conceito for D ou E."
      ],
      "metadata": {
        "id": "BO38_XwB8NAj"
      },
      "execution_count": null,
      "outputs": []
    },
    {
      "cell_type": "code",
      "source": [
        "#13.Faça um Programa que peça os 3 lados de um triângulo. O programa deverá informar se os valores podem ser um triângulo. Indique, caso os lados formem um triângulo, se o mesmo é: equilátero, isósceles ou escaleno.\n",
        "#Dicas:\n",
        "# Três lados formam um triângulo quando a soma de quaisquer dois lados for menor que o terceiro;\n",
        "# Triângulo Equilátero: três lados iguais;\n",
        "# Triângulo Isósceles: quaisquer dois lados iguais;\n",
        "# Triângulo Escaleno: três lados diferentes;"
      ],
      "metadata": {
        "id": "QZRx5RUf8ZbG"
      },
      "execution_count": null,
      "outputs": []
    },
    {
      "cell_type": "code",
      "source": [
        "#14. Faça um programa que faça 5 perguntas para uma pessoa sobre um crime. As perguntas são:\n",
        "# a.\"Telefonou para a vítima?\"\n",
        "# b.\"Esteve no local do crime?\"\n",
        "# c.\"Mora perto da vítima?\"\n",
        "# d.\"Devia para a vítima?\"\n",
        "# e.\"Já trabalhou com a vítima?\"\n",
        "# O programa deve no final emitir uma classificação sobre a participação da pessoa no crime.\n",
        "# Se a pessoa responder positivamente a 2 questões ela deve ser classificada como \"Suspeita\", entre 3 e 4 como \"Cúmplice\" e 5 como \"Assassino\". Caso contrário, ele será classificado como \"Inocente\"."
      ],
      "metadata": {
        "id": "we-wyjyv8k59"
      },
      "execution_count": null,
      "outputs": []
    },
    {
      "cell_type": "markdown",
      "source": [
        "### Exercícios extras\n",
        "#15 - https://wiki.python.org.br/EstruturaDeDecisao"
      ],
      "metadata": {
        "id": "xuvxanzUNmu_"
      }
    }
  ]
}