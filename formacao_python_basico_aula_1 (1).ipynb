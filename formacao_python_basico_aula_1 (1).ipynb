{
  "nbformat": 4,
  "nbformat_minor": 0,
  "metadata": {
    "colab": {
      "provenance": []
    },
    "kernelspec": {
      "name": "python3",
      "display_name": "Python 3"
    },
    "language_info": {
      "name": "python"
    }
  },
  "cells": [
    {
      "cell_type": "markdown",
      "source": [
        "<font color='#FFD43B'>Ministrante: Thaís Linzmaier\n",
        "<br>\n",
        "Contato: tmlinzmaier@ucs.br\n",
        "<br>\n",
        "LinkedIn: https://br.linkedin.com/in/tha%C3%ADs-linzmaier-466a6a150</font>"
      ],
      "metadata": {
        "id": "EMBLDJyGyBZK"
      }
    },
    {
      "cell_type": "code",
      "source": [
        "print('Hello World')"
      ],
      "metadata": {
        "colab": {
          "base_uri": "https://localhost:8080/"
        },
        "id": "_i5j56hshPjJ",
        "outputId": "49196203-f2b2-4966-d0de-cf6af40bcf9c"
      },
      "execution_count": 2,
      "outputs": [
        {
          "output_type": "stream",
          "name": "stdout",
          "text": [
            "Hello World\n"
          ]
        }
      ]
    },
    {
      "cell_type": "markdown",
      "source": [
        "<font color='#4B8BBE' size='5'>Aula 1 - Formação em Python: Básico</font>\n",
        "<br>\n",
        "<font color='#FFD43B'>Variáveis e tipos de dados</font>\n",
        "- Introdução\n",
        "- História da linguagem Python\n",
        "- Usabilidade\n",
        "- A linguagem: Variáveis\n",
        "- A linguagem: Tipos de dados\n",
        "- Exercícios\n",
        "\n",
        "\n",
        "\n"
      ],
      "metadata": {
        "id": "M2SrodkJp1MC"
      }
    },
    {
      "cell_type": "markdown",
      "source": [
        "<font color='#FFD43B' size='5'>O que é Python?</font>\n",
        "<br>\n",
        "Python é uma linguagem interpretada (implementações que executam instruções diretamente sem compilar o programa antes para linguagem de máquina), de alto nível (orientada a usuário sem necessidade de conhecimento de hardware devido à alta abstração) com semântica dinâmica (variáveis são objetos dinâmicos, podendo assumir diversos tipos de dado)."
      ],
      "metadata": {
        "id": "C18WCV4FsSth"
      }
    },
    {
      "cell_type": "markdown",
      "source": [
        "<font color='#FFD43B' size='5'>Curiosidades da linguagem Python</font>\n",
        "<br>\n",
        "- Sintaxe simples com grande legibilidade que facilita o aprendizado e introdução à programação;\n",
        "- Tipagem dinâmica (Duck typing) e vinculação de tipos de dados dinâmica;\n",
        "- É de graça.\n",
        "- Tem bibliotecas legais (MoviePy, PyJokes)\n",
        "https://dev.to/taipy/11-fun-python-libraries-to-make-your-day-better-4gpc\n",
        "- Tem uma comunidade gigantesca e, se alguém precisar de qualquer coisa, quase certeza que existe um programa em Python para isso.\n",
        "https://github.com/meganmansfield/taylorswift"
      ],
      "metadata": {
        "id": "D0vL7uk9tVbZ"
      }
    },
    {
      "cell_type": "markdown",
      "source": [
        "Programa em C para ordenar uma lista de palavras em ordem alfabética"
      ],
      "metadata": {
        "id": "FTTXAiQbsq4F"
      }
    },
    {
      "cell_type": "code",
      "source": [
        "#include<stdio.h>\n",
        "#include<string.h>\n",
        "int main(){\n",
        "   int i,j,count;\n",
        "   char str[25][25],temp[25];\n",
        "   puts(\"Quantas palavras você vai inserir?: \");\n",
        "   scanf(\"%d\", &count);\n",
        "\n",
        "   puts(\"Escreva cada palavra uma por uma\");\n",
        "   for(i=0;i<=count;i++)\n",
        "      gets(str[i]);\n",
        "   for(i=0;i<=count;i++)\n",
        "      for(j=i+1;j<=count;j++){\n",
        "         if(strcmp(str[i],str[j])>0){\n",
        "            strcpy(temp,str[i]);\n",
        "            strcpy(str[i],str[j]);\n",
        "            strcpy(str[j],temp);\n",
        "         }\n",
        "      }\n",
        "   printf(\"Palavras ordenadas:\");\n",
        "   for(i=0;i<=count;i++)\n",
        "      puts(str[i]);\n",
        "\n",
        "   return 0;\n",
        "}"
      ],
      "metadata": {
        "id": "IS-REM2OsA6V"
      },
      "execution_count": null,
      "outputs": []
    },
    {
      "cell_type": "markdown",
      "source": [
        "Programa em Python para ordenar uma lista de palavras em ordem alfabética"
      ],
      "metadata": {
        "id": "JvAadzQ2sxtl"
      }
    },
    {
      "cell_type": "code",
      "source": [
        "lista_palavras = input(\"Insira as palavras:\")\n",
        "palavras = [word.lower() for word in lista_palavras.split()]\n",
        "palavras.sort()\n",
        "\n",
        "print(\"Palavras ordenadas:\")\n",
        "for palavra in palavras:\n",
        "   print(palavra)"
      ],
      "metadata": {
        "id": "zxy4NT4csbM-"
      },
      "execution_count": null,
      "outputs": []
    },
    {
      "cell_type": "markdown",
      "source": [
        "<font color='#FFD43B' size='5'>História</font>"
      ],
      "metadata": {
        "id": "90CJd9aHzPQi"
      }
    },
    {
      "cell_type": "markdown",
      "source": [
        "<img src= \"https://aem.dropbox.com/cms/content/dam/dropbox/blog/files/2019/11/guido_hero.jpg\" align=\"right\" width=\"300\">\n",
        "“Python is an experiment in how much freedom programmers need. Too much freedom and nobody can read another's code; too little and expressiveness is endangered.”\n",
        "<br>\n",
        "- Guido van Rossum, criador da linguagem Python\n",
        "<br>\n",
        "- \"Python é um experimento em o quanto de liberdade programadores precisam. Com liberdade demais, ninguém consegue ler o código de outras pessoas; com liberdade de menos a expressividade é arriscada\"\n",
        "<br>\n",
        "- Criada em 1991, na Holanda\n",
        "<br>\n",
        "- Foi um projeto para manter Guido ocupado nas férias de Natal\n",
        "<br>\n",
        "\n",
        "https://www.geeksforgeeks.org/history-of-python/\n"
      ],
      "metadata": {
        "id": "5l7DdXIvz9kK"
      }
    },
    {
      "cell_type": "markdown",
      "source": [
        "<font color='#FFD43B' size='5'>Usabilidade</font>\n",
        "<br>\n",
        "![Screenshot 2023-02-05 at 15-54-21 Top Computer Languages 2022 - StatisticsTimes.com.png](data:image/png;base64,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)\n",
        "<br>\n",
        "Utilização da linguagem Python no mundo em 2022.\n",
        "<br>\n",
        "Fonte: https://statisticstimes.com/tech/top-computer-languages.php\n",
        "<br>\n",
        "Áreas: Porgramação Web, Data Science, Inteligência Artificial, Jogos, Programação orientada a objetos, automação de tarefas, chatbots, etc."
      ],
      "metadata": {
        "id": "yzf8wiS12hZX"
      }
    },
    {
      "cell_type": "markdown",
      "source": [
        "<font color='#FFD43B' size='5'>Variáveis</font>\n",
        "<br>\n",
        "Variables são contêineres para guardar valores de dados.\n",
        "<br>\n",
        "<font color='#4B8BBE'>Nomes de variáveis</font>\n",
        "<br>\n",
        "Os nomes de variáveis seguem algumas regras:\n",
        "1. O nome de uma variável deve começar com uma letra ou com um underscore \"_\".\n",
        "2. Não deve ser iniciado com um número.\n",
        "3. Só podem conter caracteres alfa-numéricos e underscores (A-z, 0-9, e _).\n",
        "4. São case-sensitive (variavel, Variavel e VARIAVEL são 3 valores diferentes)."
      ],
      "metadata": {
        "id": "Kx5dmD0t9S_f"
      }
    },
    {
      "cell_type": "code",
      "source": [
        "# nomes de variáveis aceitos:\n",
        "\n",
        "minhavariavel = \"Python\"\n",
        "minha_variavel = \"Python\"\n",
        "_minha_variavel = \"Python\"\n",
        "minhaVariavel = \"Python\"\n",
        "MINHAVARIAVEL = \"Python\"\n",
        "minhavariavel2 = \"Python\"\n",
        "\n",
        "# nomes de variáveis não aceitos\n",
        "\n",
        "2minhavariavel = \"Python\"\n",
        "minha-variavel = \"Python\"\n",
        "minha variavel = \"Python\"\n",
        "\n",
        "\n",
        "# boas práticas para nomes de variáveis com múltiplas palavras\n",
        "# Camel Case\n",
        "minhaVariavel = \"Python\"\n",
        "#Pascal Case\n",
        "MinhaVariavel = \"Python\"\n",
        "#Snake Case\n",
        "minha_variavel = \"Python\"\n"
      ],
      "metadata": {
        "id": "ajvPBHk39tRZ"
      },
      "execution_count": null,
      "outputs": []
    },
    {
      "cell_type": "markdown",
      "source": [
        "<font color='#4B8BBE'>Criando variáveis</font>\n",
        "\n",
        "A linguagem Python não possui comando para criar ou inicializar uma varável. A variável passa a existir no momento em que um valor é atribuído a ela.\n",
        "<br>\n",
        "As variáveis também não precisam ser declaradas com um tipo específico e podem mudar o seu tipo ao longo do programa.\n",
        "<br>\n",
        "Caso seja preciso afirmar um tipo para uma variável, pode ser feito com \"casting\"."
      ],
      "metadata": {
        "id": "jOlSmCJLAe6Q"
      }
    },
    {
      "cell_type": "code",
      "source": [
        "x = 5\n",
        "y = 'Python'\n",
        "\n",
        "print(x)\n",
        "print(y)\n",
        "\n",
        "print(x, y)"
      ],
      "metadata": {
        "id": "9HKqZZyKBfjq",
        "colab": {
          "base_uri": "https://localhost:8080/"
        },
        "outputId": "ec650fae-b64b-4bf1-c75e-d0265802f03d"
      },
      "execution_count": 4,
      "outputs": [
        {
          "output_type": "stream",
          "name": "stdout",
          "text": [
            "5\n",
            "Python\n",
            "5 Python\n"
          ]
        }
      ]
    },
    {
      "cell_type": "code",
      "source": [
        "tipo = 4\n",
        "\n",
        "tipo = 'Python'\n",
        "\n",
        "print(tipo)"
      ],
      "metadata": {
        "colab": {
          "base_uri": "https://localhost:8080/"
        },
        "id": "VcNG2nDXnCEh",
        "outputId": "08b97413-29c0-4885-b657-aeb6eb7425f2"
      },
      "execution_count": 7,
      "outputs": [
        {
          "output_type": "stream",
          "name": "stdout",
          "text": [
            "Python\n"
          ]
        }
      ]
    },
    {
      "cell_type": "code",
      "source": [
        "#casting\n",
        "\n",
        "a = str(4)\n",
        "b = int(3)\n",
        "c = float(3)\n",
        "\n",
        "print(type(a), type(b))\n",
        "print(type(b))\n",
        "print(type(c))"
      ],
      "metadata": {
        "colab": {
          "base_uri": "https://localhost:8080/"
        },
        "id": "IfOBnjHOnZ6a",
        "outputId": "f22ffead-7c54-4c22-94ac-d69202aefcca"
      },
      "execution_count": 13,
      "outputs": [
        {
          "output_type": "stream",
          "name": "stdout",
          "text": [
            "<class 'str'> <class 'int'>\n",
            "<class 'int'>\n",
            "<class 'float'>\n"
          ]
        }
      ]
    },
    {
      "cell_type": "code",
      "source": [
        "d, e, f = \"Livro\", 7, \"Bootcamp\"\n",
        "\n",
        "print(d)\n",
        "print(e)\n",
        "print(f)"
      ],
      "metadata": {
        "colab": {
          "base_uri": "https://localhost:8080/"
        },
        "id": "YzqFhFGIo8jd",
        "outputId": "f39b563c-9ddb-4ff1-99fb-89e57d26b710"
      },
      "execution_count": 15,
      "outputs": [
        {
          "output_type": "stream",
          "name": "stdout",
          "text": [
            "Livro\n",
            "7\n",
            "Bootcamp\n"
          ]
        }
      ]
    },
    {
      "cell_type": "code",
      "source": [
        "#UNPACKING\n",
        "frutas = ['banana', 'maçã', 'cereja']\n",
        "\n",
        "x, y, z = frutas\n",
        "\n",
        "print(x, y, z)\n",
        "\n",
        "print(frutas)\n",
        "\n",
        "print(y,'Primeira variável', x)"
      ],
      "metadata": {
        "colab": {
          "base_uri": "https://localhost:8080/"
        },
        "id": "4i0zrvqFpi3r",
        "outputId": "419ff28e-6123-4202-a7cb-2b1d33f0edd6"
      },
      "execution_count": 20,
      "outputs": [
        {
          "output_type": "stream",
          "name": "stdout",
          "text": [
            "banana maçã cereja\n",
            "['banana', 'maçã', 'cereja']\n",
            "maçã Primeira variável banana\n"
          ]
        }
      ]
    },
    {
      "cell_type": "code",
      "source": [
        "#15 minutos para declararem as variáveis que tiverem vontade, mudar os tipos de dados, etc.\n",
        "\n",
        "print('Python')\n",
        "\n",
        "frutas = ['banana', 'maçã', 'cereja']\n",
        "print(frutas[0])"
      ],
      "metadata": {
        "id": "dhNiih6OX9iH",
        "colab": {
          "base_uri": "https://localhost:8080/"
        },
        "outputId": "3a18b717-f48c-4335-a926-faf07b320087"
      },
      "execution_count": 21,
      "outputs": [
        {
          "output_type": "stream",
          "name": "stdout",
          "text": [
            "Python\n",
            "banana\n"
          ]
        }
      ]
    },
    {
      "cell_type": "markdown",
      "source": [
        "<font color='#FFD43B' size='5'>Tipos de dados</font>\n",
        "<br>\n",
        "Texto: \tstr\n",
        "<br>\n",
        "Numérico: \tint, float\n",
        "<br>\n",
        "Sequência: \tlist, tuple\n",
        "<br>\n",
        "Mapeamento: \tdict\n",
        "<br>\n",
        "Conjuntos: \tset\n"
      ],
      "metadata": {
        "id": "peRJMa5TGqgK"
      }
    },
    {
      "cell_type": "code",
      "source": [
        "#DICA\n",
        "# para descobrir o tipo de uma variável, basta utilizar a função type(nome_da_variavel)\n",
        "x = 5\n",
        "print(type(x))"
      ],
      "metadata": {
        "colab": {
          "base_uri": "https://localhost:8080/"
        },
        "id": "HS8PsMdcqPzS",
        "outputId": "62e0ca95-b6d6-4c83-db20-60009b064f00"
      },
      "execution_count": null,
      "outputs": [
        {
          "output_type": "stream",
          "name": "stdout",
          "text": [
            "<class 'int'>\n"
          ]
        }
      ]
    },
    {
      "cell_type": "code",
      "source": [
        "#o tipo str(string) representa uma sequência de caracteres e pode ser delimitado por aspas simples ou duplas\n",
        "carro = 'gol'\n",
        "print(carro)\n",
        "print(type(carro))\n",
        "\n",
        "#o tipo int (integer) representa valores númericos inteiros\n",
        "numero = 1\n",
        "print(numero)\n",
        "print(type(numero))\n",
        "\n",
        "#o tipo float representa valores numéricos decimais\n",
        "numero_decimal = 0.5\n",
        "print(numero_decimal)\n",
        "print(type(numero_decimal))\n",
        "\n",
        "#o tipo list (lista) é utilizado para armazenar diversos valores em uma única variável e é representado por [].\n",
        "mercado = ['Ovo', 'leite', 'açúcar', 1, 400]\n",
        "print(mercado)\n",
        "print(type(mercado))"
      ],
      "metadata": {
        "id": "FWXrKa7aqrD4",
        "colab": {
          "base_uri": "https://localhost:8080/"
        },
        "outputId": "6afcb11c-fe4d-4efd-c084-6b3d164b7a7f"
      },
      "execution_count": 26,
      "outputs": [
        {
          "output_type": "stream",
          "name": "stdout",
          "text": [
            "gol\n",
            "<class 'str'>\n",
            "1\n",
            "<class 'int'>\n",
            "0.5\n",
            "<class 'float'>\n",
            "['Ovo', 'leite', 'açúcar', 1, 400]\n",
            "<class 'list'>\n"
          ]
        }
      ]
    },
    {
      "cell_type": "markdown",
      "source": [
        "OPERAÇÕES COM LISTA"
      ],
      "metadata": {
        "id": "ZIQfpBI-wMzU"
      }
    },
    {
      "cell_type": "code",
      "source": [
        "#o insert é um método que utilizamos para inserir valores em uma lista em uma determinada posição\n",
        "mercado = ['Ovo', 'leite', 'açúcar', 1, 400]\n",
        "mercado.insert(2, 'Pão')\n",
        "print(mercado)\n",
        "\n",
        "#o append é utilizado para inserir valores em uma lista no final dela\n",
        "mercado.append('Chocolate')\n",
        "print(mercado)\n",
        "\n",
        "#o extend adiciona uma lista em outra\n",
        "vegetais = ['brocolis' , 'cenoura']\n",
        "mercado.extend(vegetais)\n",
        "print(mercado)\n",
        "\n",
        "#o método pop retira o último item da lista quando (). Quando (posição do item na lista), remove o item na posição correspondente\n",
        "mercado.pop()\n",
        "print(mercado)\n",
        "mercado.pop(2)\n",
        "print(mercado)\n",
        "\n",
        "#o método remove retira um item da lista pelo seu valor\n",
        "mercado.remove('Chocolate')\n",
        "print(mercado)\n",
        "\n",
        "#o método clear limpa a lista\n",
        "mercado.clear()\n",
        "print(mercado)\n",
        "\n",
        "#tupla é um conjunto de valores imutáveis atribuídos a uma variável, é representada por ().\n",
        "tupla = ('Camiseta', 'calça')\n",
        "print(tupla)\n",
        "print(type(tupla))\n",
        "\n",
        "\n",
        "#o dicionário é utilizado para armazenar dados em pares chave, valor.\n",
        "dicionario_mercado = {\n",
        "    \"item\" : 'leite',\n",
        "    \"volume\" : '400ml',\n",
        "    \"quantidade_estoque\" : 10\n",
        "}\n",
        "\n",
        "print(dicionario_mercado)\n",
        "print(dicionario_mercado[\"item\"])"
      ],
      "metadata": {
        "colab": {
          "base_uri": "https://localhost:8080/"
        },
        "id": "OXgMTKbIwJ4I",
        "outputId": "fb70dfba-21e0-4abb-8635-5e2b879a1b26"
      },
      "execution_count": 38,
      "outputs": [
        {
          "output_type": "stream",
          "name": "stdout",
          "text": [
            "['Ovo', 'leite', 'Pão', 'açúcar', 1, 400]\n",
            "['Ovo', 'leite', 'Pão', 'açúcar', 1, 400, 'Chocolate']\n",
            "['Ovo', 'leite', 'Pão', 'açúcar', 1, 400, 'Chocolate', 'brocolis', 'cenoura']\n",
            "['Ovo', 'leite', 'Pão', 'açúcar', 1, 400, 'Chocolate', 'brocolis']\n",
            "['Ovo', 'leite', 'açúcar', 1, 400, 'Chocolate', 'brocolis']\n",
            "['Ovo', 'leite', 'açúcar', 1, 400, 'brocolis']\n",
            "[]\n",
            "('Camiseta', 'calça')\n",
            "<class 'tuple'>\n",
            "{'item': 'leite', 'volume': '400ml', 'quantidade_estoque': 10}\n",
            "leite\n"
          ]
        }
      ]
    },
    {
      "cell_type": "markdown",
      "source": [
        "<font color='#FFD43B' size='5'>Exercícios</font>"
      ],
      "metadata": {
        "id": "NL9rpT_vzAOr"
      }
    },
    {
      "cell_type": "code",
      "source": [
        "#1. Escreva um programa para trocar dois números de lugar usando uma terceira variável.Imprima o resultado final. Ex: Se x=10 e y=20, o resultado terá que ser x=20 e y=10.\n"
      ],
      "metadata": {
        "id": "fC_zCVoPk59f"
      },
      "execution_count": null,
      "outputs": []
    },
    {
      "cell_type": "code",
      "source": [
        "#2. Escreva um programa para trocar dois números de lugar sem usar uma terceira variável.Imprima o resultado final. Ex: Se x=10 e y=20, o resultado terá que ser x=20 e y=10.\n"
      ],
      "metadata": {
        "id": "7oBXUgBwlBXN"
      },
      "execution_count": null,
      "outputs": []
    },
    {
      "cell_type": "code",
      "source": [
        "#3. Declare uma variável com o nome \"livros\" do tipo lista e atribua a ela os valores \"O Grande Gatsby\", \"O coração de nanquim\" e \"Conversas entre amigos\" e imprima o resultado.\n",
        "#Depois aplique a técnica de unpacking na lista e imprima."
      ],
      "metadata": {
        "id": "npp4upMTCjhz"
      },
      "execution_count": null,
      "outputs": []
    },
    {
      "cell_type": "code",
      "source": [
        "#4. Vamos trabalhar um pouco mais com listas.\n",
        "# a. Crie uma lista com os valores que desejar. Imprima-a.\n",
        "# b. Adicione mais 3 valores a essa lista. Imprima-a.\n",
        "# c. Adicione outra lista (ou tupla) à lista inicialmente criada. Imprima-a.\n",
        "# d. Remova os 3 primeiros itens da lista. Imprima-a.\n",
        "# e. Remova o último item da lista. Imprima-a.\n",
        "# f. Remova um item da lista pelo nome. Imprima-a\n",
        "# g. Esvazie a lista. Imprima-a."
      ],
      "metadata": {
        "id": "Rv36UDKUYFmG"
      },
      "execution_count": null,
      "outputs": []
    },
    {
      "cell_type": "code",
      "source": [
        "#5. Atribua os seguintes valores a variáveis e imprima os seus tipos correspondentes: 3, 'Exercício', 7j, ['Python', 'é', 'muito', 'utilizado].\n",
        "\n"
      ],
      "metadata": {
        "id": "OrYd45x-f-y9"
      },
      "execution_count": null,
      "outputs": []
    },
    {
      "cell_type": "code",
      "source": [
        "#DESAFIO\n",
        "#Escreva um programa para ler dois números e achar a soma dos seus cubos. Imprima o resultado final.\n",
        "#Dica: para inserir valores digitados pelo usuário em variáveis utilize variavel = tipo_variavel(input()). Ex: x = int(input()).\n",
        "#Dica 2: os operadores aritméticos são + (adição), - (subtração), * (multiplicação), / (divisão)\n"
      ],
      "metadata": {
        "id": "Tq3M82mjeKD6"
      },
      "execution_count": null,
      "outputs": []
    },
    {
      "cell_type": "code",
      "source": [
        "#Utilize esse espaço para testar o que quiser, fique à vontade!"
      ],
      "metadata": {
        "id": "aE1YnomlhUiz"
      },
      "execution_count": null,
      "outputs": []
    }
  ]
}