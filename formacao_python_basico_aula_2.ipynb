{
  "nbformat": 4,
  "nbformat_minor": 0,
  "metadata": {
    "colab": {
      "provenance": []
    },
    "kernelspec": {
      "name": "python3",
      "display_name": "Python 3"
    },
    "language_info": {
      "name": "python"
    }
  },
  "cells": [
    {
      "cell_type": "markdown",
      "source": [
        "<font color='#4B8BBE' size='5'>Aula 2 - Formação em Python: Básico</font>\n",
        "<br>\n",
        "<font color='#FFD43B'>Números e operadores</font>\n",
        "- Correção dos exercícios da aula passada\n",
        "- Números\n",
        "- Casting (incluso na aula passada, continuação)\n",
        "- Operadores\n",
        "- Exercícios\n",
        "\n",
        "\n",
        "\n"
      ],
      "metadata": {
        "id": "M2SrodkJp1MC"
      }
    },
    {
      "cell_type": "markdown",
      "source": [
        "<font color='#FFD43B' size='5'>Correção dos exercícios da aula passada</font>\n",
        "<br>"
      ],
      "metadata": {
        "id": "15Kt5uAjmyJV"
      }
    },
    {
      "cell_type": "code",
      "source": [
        "# Escreva um programa para trocar dois números de lugar usando uma terceira variável.Imprima o resultado final. Ex: Se x=10 e y=20, o resultado terá que ser x=20 e y=10.\n",
        "\n",
        "x = 10\n",
        "y = 20\n",
        "\n",
        "aux = x\n",
        "x = y\n",
        "y = aux\n",
        "\n",
        "print(x, y)"
      ],
      "metadata": {
        "id": "fC_zCVoPk59f",
        "colab": {
          "base_uri": "https://localhost:8080/"
        },
        "outputId": "85d3b699-dd8c-45a5-e56c-9df08f4134ab"
      },
      "execution_count": null,
      "outputs": [
        {
          "output_type": "stream",
          "name": "stdout",
          "text": [
            "20 10\n"
          ]
        }
      ]
    },
    {
      "cell_type": "code",
      "source": [
        "# Escreva um programa para trocar dois números de lugar sem usar uma terceira variável.Imprima o resultado final. Ex: Se x=10 e y=20, o resultado terá que ser x=20 e y=10.\n",
        "x = 10\n",
        "y = 20\n",
        "\n",
        "#resposta possível 1\n",
        "x, y = y, x\n",
        "print(x, y)\n",
        "\n",
        "#resposta possível 2\n",
        "x = x + y\n",
        "y = x - y\n",
        "x = x - y\n",
        "print(x, y)\n",
        "\n",
        "#resposta possível 3\n",
        "x = x * y\n",
        "y = x / y\n",
        "x = x / y\n",
        "print(x, y)"
      ],
      "metadata": {
        "id": "7oBXUgBwlBXN",
        "colab": {
          "base_uri": "https://localhost:8080/"
        },
        "outputId": "d206afbb-1dd6-461b-fda0-dcd717692f7f"
      },
      "execution_count": null,
      "outputs": [
        {
          "output_type": "stream",
          "name": "stdout",
          "text": [
            "20 10\n",
            "10 20\n",
            "20.0 10.0\n"
          ]
        }
      ]
    },
    {
      "cell_type": "code",
      "source": [
        "# Escreva um programa para ler dois números e achar a soma dos seus cubos. Imprima o resultado final.\n",
        "x = int(input())\n",
        "y = int(input())\n",
        "\n",
        "cubox = x * x * x\n",
        "cuboy = y * y * y\n",
        "\n",
        "soma = cubox + cuboy\n",
        "\n",
        "print(soma)\n"
      ],
      "metadata": {
        "id": "T1xyGfmLlFWx",
        "colab": {
          "base_uri": "https://localhost:8080/"
        },
        "outputId": "cdd9cf68-ab5c-424d-ed2b-886e02165c50"
      },
      "execution_count": null,
      "outputs": [
        {
          "output_type": "stream",
          "name": "stdout",
          "text": [
            "10\n",
            "20\n",
            "500\n"
          ]
        }
      ]
    },
    {
      "cell_type": "code",
      "source": [
        "# Declare uma variável com o nome \"livros\" do tipo lista e atribua a ela os valores \"O Grande Gatsby\", \"O coração de nanquim\" e \"Conversas entre amigos\" e imprima o resultado.\n",
        "#Depois aplique a técnica de unpacking na lista e imprima.\n",
        "\n",
        "livros = [\"O Grande Gatsby\", \"O coração de nanquim\", \"Conversas entre amigos\"]\n",
        "print(livros)\n",
        "x, y, z = livros\n",
        "print(x)\n",
        "print(y)\n",
        "print(z)"
      ],
      "metadata": {
        "id": "CE8oAObaDo2B"
      },
      "execution_count": null,
      "outputs": []
    },
    {
      "cell_type": "markdown",
      "source": [
        "ERRATA: NÃO É POSSÍVEL SALVAR UMA LISTA COM EXTEND(). O CORRETO É UTILIZAR +, COMO MOSTRAREI NO EXERCÍCIO ABAIXO."
      ],
      "metadata": {
        "id": "MxJVJ9dKpBZJ"
      }
    },
    {
      "cell_type": "code",
      "source": [
        "# Vamos trabalhar um pouco mais com listas.\n",
        "# a. Crie uma lista com os valores que desejar. Imprima-a.\n",
        "# b. Adicione mais 3 valores a essa lista. Imprima-a.\n",
        "# c. Adicione outra lista (ou tupla) à lista inicialmente criada. Imprima-a.\n",
        "# d. Remova os 3 primeiros itens da lista. Imprima-a.\n",
        "# e. Remova o último item da lista. Imprima-a.\n",
        "# f. Remova um item da lista pelo seu valor. Imprima-a\n",
        "# g. Esvazie a lista. Imprima-a.\n",
        "\n",
        "#você pode fazer qualquer lista, eu escolhi uma lista de pilotos de Fórmula 1\n",
        "lista_pilotos = ['Carlos Sainz', 'Charles Leclerc', 'Max Verstappen']\n",
        "print(lista_pilotos)\n",
        "lista_pilotos.append('Oscar Piastri')\n",
        "lista_pilotos.append('Pierre Gasly')\n",
        "lista_pilotos.append('Sebastian Vettel')\n",
        "print(lista_pilotos)\n",
        "lista_equipes = ['Ferrari', 'Mercedes', 'Red Bull']\n",
        "lista_equipes_pilotos = lista_equipes + lista_pilotos\n",
        "print(lista_equipes_pilotos)\n",
        "lista_equipes_pilotos.pop(0)\n",
        "lista_equipes_pilotos.pop(0)\n",
        "lista_equipes_pilotos.pop(0)\n",
        "print(lista_equipes_pilotos)\n",
        "lista_equipes_pilotos.pop()\n",
        "print(lista_equipes_pilotos)\n",
        "lista_equipes_pilotos.remove('Pierre Gasly')\n",
        "print(lista_equipes_pilotos)"
      ],
      "metadata": {
        "colab": {
          "base_uri": "https://localhost:8080/"
        },
        "id": "ncdfdyRechmq",
        "outputId": "1e6cc9f0-a59f-4a0e-e7d0-2bdbd90aafb5"
      },
      "execution_count": null,
      "outputs": [
        {
          "output_type": "stream",
          "name": "stdout",
          "text": [
            "['Carlos Sainz', 'Charles Leclerc', 'Max Verstappen']\n",
            "['Carlos Sainz', 'Charles Leclerc', 'Max Verstappen', 'Oscar Piastri', 'Pierre Gasly', 'Sebastian Vettel']\n",
            "['Ferrari', 'Mercedes', 'Red Bull', 'Carlos Sainz', 'Charles Leclerc', 'Max Verstappen', 'Oscar Piastri', 'Pierre Gasly', 'Sebastian Vettel']\n",
            "['Carlos Sainz', 'Charles Leclerc', 'Max Verstappen', 'Oscar Piastri', 'Pierre Gasly', 'Sebastian Vettel']\n",
            "['Carlos Sainz', 'Charles Leclerc', 'Max Verstappen', 'Oscar Piastri', 'Pierre Gasly']\n",
            "['Carlos Sainz', 'Charles Leclerc', 'Max Verstappen', 'Oscar Piastri']\n"
          ]
        }
      ]
    },
    {
      "cell_type": "markdown",
      "source": [
        "<font color='#FFD43B' size='5'>Números</font>\n",
        "<br>\n",
        "Como vimos anteriormente, existem três tipos de números em Python: int (números inteiros), float (números decimais) e complex (números complexos). Em nossa aula, vamos explorar apenas os dois primeiros."
      ],
      "metadata": {
        "id": "C18WCV4FsSth"
      }
    },
    {
      "cell_type": "code",
      "source": [
        "x = 1    # int\n",
        "y = 2.8  # float\n",
        "print('Tipo da variável x', type(x))\n",
        "print('Tipo da variável y', type(y))\n",
        "\n",
        "#é possível converter esses tipos de números em outros utilizando o método de casting.\n",
        "#converter int para float:\n",
        "#a = float(x)\n",
        "#print('Valor de A', a)\n",
        "#print('Tipo da variável A', type(a))\n",
        "\n",
        "#converter float para int:\n",
        "#b = int(y)\n",
        "#print('Valor de B', b)\n",
        "#print('Tipo da variável B', type(b))\n",
        "\n",
        "#podemos converter os números em strings, também com casting\n",
        "#c = str(2)    # y vai ser '2'\n",
        "#print('Valor de C', c)\n",
        "#print('Tipo da variável C', type(c))\n",
        "\n",
        "#d = str(3.0)  # z vai ser '3.0'\n",
        "#print('Valor de D', d)\n",
        "#print('Tipo da variável D', type(d))\n",
        "\n",
        "#para obter números aleatórios, importamos a biblioteca random e escolhemos o intervalo em que o número aleatório está contido com o método randrange(primeiro número, último número + 1)\n",
        "#import random\n",
        "#print('Número aleatório entre 1 e 100', random.randrange(1, 101))\n",
        "\n",
        "#para obter todos os números dentro de um intervalo, utilizamos range(primeiro numero, ultimo numero + 1, iterador)\n",
        "#lista_range = list(range(1, 10, 2)) #imprime os números de 1 a 9 em 2 em 2\n",
        "#print(lista_range)"
      ],
      "metadata": {
        "id": "_KUZ6HX3vBkK",
        "colab": {
          "base_uri": "https://localhost:8080/"
        },
        "outputId": "17041ccf-adae-416a-a159-e855f7015ae8"
      },
      "execution_count": null,
      "outputs": [
        {
          "output_type": "stream",
          "name": "stdout",
          "text": [
            "Tipo da variável x <class 'int'>\n",
            "Tipo da variável y <class 'float'>\n",
            "Valor de A 1.0\n",
            "Tipo da variável A <class 'float'>\n",
            "Valor de B 2\n",
            "Tipo da variável B <class 'int'>\n",
            "Valor de C 2\n",
            "Tipo da variável C <class 'str'>\n",
            "Valor de D 3.0\n",
            "Tipo da variável D <class 'str'>\n",
            "Número aleatório entre 1 e 100 78\n",
            "[1, 3, 5, 7, 9]\n"
          ]
        }
      ]
    },
    {
      "cell_type": "markdown",
      "source": [
        "<font color='#FFD43B' size='5'>Operadores</font>\n",
        "<br>\n",
        "Operadores são utilizados para realizar operações em variáveis e valores. No exemplo abaixo, utilizamos o operador + para adicionar dois valores:\n",
        "<br>\n",
        "`print(10 + 5)`\n",
        "<br>\n",
        "Python divide os operadores nos seguintes grupos:\n",
        "- Operadores aritméticos\n",
        "- Operadores de atribuição\n",
        "- Operadores de comparação\n",
        "- Operadores lógicos\n",
        "- Operadores identitários\n",
        "- Operadores de associação\n",
        "- Operadores bit a bit (não abordaremos em aula, mas fica registrado que é um dos tipos de operadores)\n"
      ],
      "metadata": {
        "id": "6Ix73F7CxM1a"
      }
    },
    {
      "cell_type": "code",
      "source": [
        "#Operadores aritméticos\n",
        "\n",
        "#São operadores utilizados com valores numéricos para realizar operações matemáticas simples\n",
        "x = 10.5\n",
        "y = 2\n",
        "soma = x + y\n",
        "subtracao = x - y\n",
        "multiplicacao = x * y\n",
        "divisao = x / y\n",
        "resto = x % y\n",
        "exponenciacao = x ** y\n",
        "divisao_de_inteiros = x // y\n",
        "\n",
        "print(soma, subtracao, multiplicacao, divisao, resto, exponenciacao, divisao_de_inteiros)"
      ],
      "metadata": {
        "colab": {
          "base_uri": "https://localhost:8080/"
        },
        "id": "naJhF0FuyO9q",
        "outputId": "a22a0ea8-06c2-4b83-b480-23d60da27468"
      },
      "execution_count": null,
      "outputs": [
        {
          "output_type": "stream",
          "name": "stdout",
          "text": [
            "12.5 8.5 21.0 5.25 0.5 110.25 5.0\n"
          ]
        }
      ]
    },
    {
      "cell_type": "code",
      "source": [
        "#Operadores de atribuição\n",
        "\n",
        "#São operadores utilizados para atribuir valores a variáveis\n",
        "x = 5     #mesmo que x = 5\n",
        "x += 3    #mesmo que x = x + 3\n",
        "x -= 3    #mesmo que x = x - 3\n",
        "x *= 3 \t  #mesmo que x = x * 3\n",
        "x /= 3 \t  #mesmo que x = x / 3\n",
        "x %= 3 \t  #mesmo que x = x % 3\n",
        "x //= 3 \t#mesmo que x = x // 3\n",
        "x **= 3 \t#mesmo que x = x ** 3\n",
        "x &= 3 \t  #mesmo que x = x & 3\n",
        "x |= 3 \t  #mesmo que x = x | 3\n",
        "x ^= 3 \t  #mesmo que x = x ^ 3"
      ],
      "metadata": {
        "id": "TzJw3NbZzPgq"
      },
      "execution_count": null,
      "outputs": []
    },
    {
      "cell_type": "code",
      "source": [
        "#Operadores de comparação\n",
        "\n",
        "#São operadores utilizados para comparar dois valores\n",
        "x = 40\n",
        "y = 70\n",
        "igual = x == y\n",
        "nao_igual =\tx != y\n",
        "maior_que =\tx > y\n",
        "menor_que = x < y\n",
        "maior_que_ou_igual = x >= y\n",
        "menor_que_ou_igual = x <= y\n",
        "print(\"Igual:\",igual)\n",
        "print(\"Não Igual:\", nao_igual)\n",
        "print(\"Maior que:\", maior_que)\n",
        "print(\"Menor que:\", menor_que)\n",
        "print(\"Maior que ou igual:\", maior_que_ou_igual)\n",
        "print(\"Menor que ou igual:\", menor_que_ou_igual)"
      ],
      "metadata": {
        "colab": {
          "base_uri": "https://localhost:8080/"
        },
        "id": "3_RwFgBC1DUO",
        "outputId": "8fa004e1-edcb-4383-f535-3e5ce8fd3b1d"
      },
      "execution_count": null,
      "outputs": [
        {
          "output_type": "stream",
          "name": "stdout",
          "text": [
            "Igual: False\n",
            "Não Igual: True\n",
            "Maior que: False\n",
            "Menor que: True\n",
            "Maior que ou igual: False\n",
            "Menor que ou igual: True\n"
          ]
        }
      ]
    },
    {
      "cell_type": "code",
      "source": [
        "#Operadores lógicos\n",
        "\n",
        "#São operadores utilizados para combinar duas premissas condicionais\n",
        "x = 40\n",
        "e = x < 5 and  x < 10 #retorna True se as duas premissas forem verdadeiras\n",
        "ou = x < 5 or x < 4 #retorna True se uma das duas premissas forem verdadeiras\n",
        "nao = not(x < 5 and x < 10) #reverte o resultado, retorna False se as premissas forem verdadeiras\n",
        "print(\"E:\", e)\n",
        "print(\"Ou:\", ou)\n",
        "print(\"Não:\", nao)"
      ],
      "metadata": {
        "colab": {
          "base_uri": "https://localhost:8080/"
        },
        "id": "U3Ey2SLl1caJ",
        "outputId": "30374259-fa00-4dbe-e42c-a4a4920b3190"
      },
      "execution_count": null,
      "outputs": [
        {
          "output_type": "stream",
          "name": "stdout",
          "text": [
            "E False\n",
            "Ou False\n",
            "Não True\n"
          ]
        }
      ]
    },
    {
      "cell_type": "code",
      "source": [
        "#Operadores identitários\n",
        "\n",
        "#São operadores utilizados para comparar objetos, não se são iguais, mas se são o mesmo objeto com o mesmo local de memória\n",
        "eh = x is y #retorna True se as duas variáveis forem o mesmo objeto\n",
        "nao_eh = x is not y #retorna True se as duas variáveis não forem o mesmo objeto\n",
        "\n",
        "x = [\"maçã\", \"banana\"]\n",
        "y = [\"maçã\", \"banana\"]\n",
        "z = x\n",
        "\n",
        "print(x is z) # retorna True pois z é o mesmo objeto de x\n",
        "\n",
        "print(x is y) # retorna Falso pois x não é o mesmo objeto que y, mesmo que possuam o mesmo conteúdo"
      ],
      "metadata": {
        "id": "f8EclgCi2L0b"
      },
      "execution_count": null,
      "outputs": []
    },
    {
      "cell_type": "code",
      "source": [
        "#Operadores de associação\n",
        "\n",
        "#São operadores utlizados para testar se uma sequência está presente em um objeto\n",
        "em = x in y \t\t# retorna True se a sequencia espeficada está presente no objeto\n",
        "nao_em = \tx not in y # retorna True se a sequencia espeficada não está presente no objeto\n",
        "\n",
        "x = [\"maçã\", \"banana\"]\n",
        "print(\"banana\" in x) #retorna True porque \"banana\" está presente na lista\n",
        "print(\"banana\" not in x) #retorna False porque \"banana\" está presente na lista\n",
        "print(\"cereja\" not in x) #retorna True porque \"cereja\" não está presente na lista\n",
        "print(\"cereja\" in x) #retorna False porque \"cereja\" não está presente na lista"
      ],
      "metadata": {
        "id": "xwt52sG13Ikh"
      },
      "execution_count": null,
      "outputs": []
    },
    {
      "cell_type": "markdown",
      "source": [
        "<font color='#FFD43B' size='5'>Booleanos</font>\n",
        "<br>\n",
        "São utilizados para checar se uma expressão é True ou False."
      ],
      "metadata": {
        "id": "DlDSB4IK5i-7"
      }
    },
    {
      "cell_type": "code",
      "source": [
        "print('10 é maior que 9', 10 > 9) #Resultado esperado: True\n",
        "print('10 é igual a 9', 10 == 9) #Resultado esperado: False\n",
        "print('10 é menor que 9', 10 < 9) #Resultado esperado: False\n",
        "\n",
        "#a maioria dos valores são True se existe algum conteúdo\n",
        "#todas as strings são True, menos as vazias\n",
        "#todos os números são True, menos 0\n",
        "#qualquer lista, tupla, set, e dicionário são True, menos quando estão vazios.\n",
        "\n",
        "#valores True\n",
        "bool(\"abc\")\n",
        "bool(123)\n",
        "bool([\"apple\", \"cherry\", \"banana\"])\n",
        "\n",
        "#valores False\n",
        "bool(False)\n",
        "bool(None)\n",
        "bool(0)\n",
        "bool(\"\")\n",
        "bool(())\n",
        "bool([])\n",
        "bool({})"
      ],
      "metadata": {
        "id": "TRufi-_zXCF0",
        "colab": {
          "base_uri": "https://localhost:8080/"
        },
        "outputId": "383b1d24-9398-4f9c-d346-c27832936887"
      },
      "execution_count": null,
      "outputs": [
        {
          "output_type": "stream",
          "name": "stdout",
          "text": [
            "10 é maior que 9 True\n",
            "10 é igual a 9 False\n",
            "10 é menor que 9 False\n",
            "True\n",
            "True\n"
          ]
        },
        {
          "output_type": "execute_result",
          "data": {
            "text/plain": [
              "False"
            ]
          },
          "metadata": {},
          "execution_count": 2
        }
      ]
    },
    {
      "cell_type": "markdown",
      "source": [
        "<font color='#FFD43B' size='5'>Exercícios</font>"
      ],
      "metadata": {
        "id": "cAkWYcdpYP0t"
      }
    },
    {
      "cell_type": "code",
      "source": [
        "# 1. Primeiramente não rode o exemplo abaixo. Comente ao lado de cada um dos print() se o retorno será True ou False. Depois, rode para conferir suas respostas.\n",
        "\n",
        "a = False\n",
        "b = False\n",
        "x = not(a)\n",
        "y = not(b)\n",
        "print(a and b)\n",
        "print(a and x)\n",
        "print(y and b)\n",
        "print(x and y)\n",
        "print(a or b)\n",
        "print(x or y)\n",
        "print(a or x)\n",
        "print(x or b)"
      ],
      "metadata": {
        "id": "8zMgBBByYT6R",
        "colab": {
          "base_uri": "https://localhost:8080/"
        },
        "outputId": "444c5d18-681d-47ff-8b2d-bdc5ac9e3b4e"
      },
      "execution_count": null,
      "outputs": [
        {
          "output_type": "stream",
          "name": "stdout",
          "text": [
            "False\n",
            "False\n",
            "False\n",
            "True\n",
            "False\n",
            "True\n",
            "True\n",
            "True\n"
          ]
        }
      ]
    },
    {
      "cell_type": "code",
      "source": [
        "#2. Primeiramente não rode o exemplo abaixo. Comente ao lado de cada um dos print() como será o retorno de cada range. Depois, rode para conferir suas respostas.\n",
        "\n",
        "#range 1\n",
        "x = range(0,10,1)\n",
        "my_list = list(range(0,10,1))\n",
        "print(my_list)\n",
        "\n",
        "#range 2\n",
        "my_list = list(range(0,10,2))\n",
        "print(my_list)\n",
        "\n",
        "#range 3\n",
        "my_list = list(range(4,11,1))\n",
        "print(my_list)\n",
        "\n",
        "#range 4\n",
        "my_list = list(range(-6,15,5))\n",
        "print(my_list)\n",
        "\n",
        "#range 5\n",
        "my_list = list(range(8,20,2))\n",
        "print(my_list)\n",
        "\n",
        "#range 6\n",
        "my_list = list(range(-6,10,3))\n",
        "print(my_list)\n",
        "\n",
        "#range 7\n",
        "my_list = list(range(0,-20,-4))\n",
        "print(my_list)\n",
        "\n",
        "#range 8\n",
        "my_list = list(range(10,0,-1))\n",
        "print(my_list)"
      ],
      "metadata": {
        "id": "snJd_G1OZZra"
      },
      "execution_count": null,
      "outputs": []
    },
    {
      "cell_type": "code",
      "source": [
        "#3. Utilize a função range para popular uma lista com as progressões aritméticas abaixo:\n",
        "#[110, 112, 114, 116, 118, 120, 122, 124, 126, 128]\n",
        "#[140, 138, 136, 134, 132, 130, 128, 126, 124, 122]\n",
        "#[-50, -48, -46, -44, -42, -40, -38, -36, -34, -32]\n",
        "#[-20, -17, -14, -11, -8, -5, -2, 1, 4, 7, 10, 13, 16, 19, 22, 25, 28]\n",
        "#[-20, -23, -26, -29]"
      ],
      "metadata": {
        "id": "2kBMjOJLb8nn"
      },
      "execution_count": null,
      "outputs": []
    },
    {
      "cell_type": "code",
      "source": [
        "#4. Primeiramente não rode o exemplo abaixo. Comente ao lado de cada uma das operações qual será o resultado. Depois, rode para conferir suas respostas.\n",
        "\n",
        "w = 2\n",
        "x = 5\n",
        "y = 7\n",
        "\n",
        "a = w + y\n",
        "b = y - w\n",
        "c = y % x\n",
        "d = y // w\n",
        "e = y ** w\n",
        "f = w * x\n",
        "g = y / x\n",
        "print(a,b,c,d,e,f,g)"
      ],
      "metadata": {
        "id": "-Lii1-Nac9wB"
      },
      "execution_count": null,
      "outputs": []
    },
    {
      "cell_type": "code",
      "source": [
        "#5. Escreva um programa que converte graus Celsius em Fahrenheit.\n",
        "# Dica: a fórmula que representa a relação entre Celsius e Fahrenheit é temp_celsius/5 = (temp_fahrenheit – 32)/9\n",
        "\n"
      ],
      "metadata": {
        "id": "Y4YRBNqHdIgb"
      },
      "execution_count": null,
      "outputs": []
    },
    {
      "cell_type": "code",
      "source": [
        "#6. Escreva um programa que converte graus Fahrenheit em Celsius.\n",
        "# Dica: a fórmula que representa a relação entre Celsius e Fahrenheit é temp_celsius/5 = (temp_fahrenheit – 32)/9"
      ],
      "metadata": {
        "id": "Be8zVZshe0fA"
      },
      "execution_count": null,
      "outputs": []
    },
    {
      "cell_type": "code",
      "source": [
        "#7. Escreva um programa para calcular a área e o perímetro de um retângulo.\n",
        "#Dica: para achar a área, deve-se multiplicar dois lados do retângulo. Para calcular o perímetro deve-se somar os lados e multiplicar por 2."
      ],
      "metadata": {
        "id": "992oyMVTin97"
      },
      "execution_count": null,
      "outputs": []
    },
    {
      "cell_type": "code",
      "source": [
        "#8. Crie um programa para converter quilômetros em milhas.\n",
        "#Dica: 1 km = 0.6214 em milhas"
      ],
      "metadata": {
        "id": "AU8V_FfXjhxg"
      },
      "execution_count": null,
      "outputs": []
    },
    {
      "cell_type": "code",
      "source": [
        "#9. Crie um programa para converter milhas em quilômetros.\n",
        "#Dica: 1 milha = 1,60934 em km"
      ],
      "metadata": {
        "id": "qhkJeHQlkF6G"
      },
      "execution_count": null,
      "outputs": []
    },
    {
      "cell_type": "code",
      "source": [
        "#10. Faça um Programa que peça as 4 notas bimestrais e mostre a média."
      ],
      "metadata": {
        "id": "tSkNsVAgRFkw"
      },
      "execution_count": null,
      "outputs": []
    },
    {
      "cell_type": "code",
      "source": [
        "#11. Faça um Programa que pergunte quanto você ganha por hora e o número de horas trabalhadas no mês. Calcule e mostre o total do seu salário no referido mês."
      ],
      "metadata": {
        "id": "TQzQ9jZORHZO"
      },
      "execution_count": null,
      "outputs": []
    },
    {
      "cell_type": "code",
      "source": [
        "#12. Faça um Programa que pergunte quanto você ganha por hora e o número de horas trabalhadas no mês. Calcule e mostre o total do seu salário no referido mês, sabendo-se que são descontados 11% para o Imposto de Renda, 8% para o INSS e 5% para o sindicato, faça um programa que nos dê:\n",
        "# salário bruto.\n",
        "#quanto pagou ao INSS.\n",
        "#quanto pagou ao sindicato.\n",
        "#o salário líquido.\n",
        "#calcule os descontos e o salário líquido, conforme a tabela abaixo:\n",
        "# Salário Bruto : R$\n",
        "# - IR (11%) : R$\n",
        "# - INSS (8%) : R$\n",
        "# - Sindicato ( 5%) : R$\n",
        "# Salário Liquido : R$\n",
        "\n",
        "#Obs.: Salário Bruto - Descontos = Salário Líquido."
      ],
      "metadata": {
        "id": "1ZzDFKmrRZQF"
      },
      "execution_count": null,
      "outputs": []
    },
    {
      "cell_type": "markdown",
      "source": [
        "#13 - Bônus: Responda o quiz a seguir: https://www.docsity.com/pt/quiz/programacao-em-python/introducao-ao-python-variaveis-operadores-e-expressoes/"
      ],
      "metadata": {
        "id": "d_21Qr1KhDrK"
      }
    }
  ]
}