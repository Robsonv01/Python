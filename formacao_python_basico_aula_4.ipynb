{
  "nbformat": 4,
  "nbformat_minor": 0,
  "metadata": {
    "colab": {
      "provenance": []
    },
    "kernelspec": {
      "name": "python3",
      "display_name": "Python 3"
    },
    "language_info": {
      "name": "python"
    }
  },
  "cells": [
    {
      "cell_type": "markdown",
      "source": [
        "<font color='#4B8BBE' size='5'>Aula 4 - Formação em Python: Básico</font>\n",
        "<br>\n",
        "<font color='#FFD43B'>Loops</font>\n",
        "- Correção dos exercícios da aula passada\n",
        "- For\n",
        "- While\n",
        "- Exercícios\n",
        "- Correção dos exercícios\n",
        "\n"
      ],
      "metadata": {
        "id": "M2SrodkJp1MC"
      }
    },
    {
      "cell_type": "markdown",
      "source": [
        "Correção dos exercícios da aula passada"
      ],
      "metadata": {
        "id": "0jEA9OqvV3uo"
      }
    },
    {
      "cell_type": "code",
      "execution_count": 1,
      "metadata": {
        "id": "NLHwamKyjuFQ",
        "colab": {
          "base_uri": "https://localhost:8080/"
        },
        "outputId": "48ecb84b-b291-4abb-f3c3-8764e8e18378"
      },
      "outputs": [
        {
          "output_type": "stream",
          "name": "stdout",
          "text": [
            "1\n",
            "10\n",
            "10\n"
          ]
        }
      ],
      "source": [
        "#1.Faça um Programa que peça dois números e imprima o maior deles.\n",
        "\n",
        "num1 = int(input())\n",
        "num2 = int(input())\n",
        "\n",
        "if num1 > num2:\n",
        "  print(num1)\n",
        "else:\n",
        "  print(num2)"
      ]
    },
    {
      "cell_type": "code",
      "source": [
        "#2. Faça um Programa que peça um valor e mostre na tela se o valor é positivo ou negativo.\n",
        "\n",
        "numero = int(input())\n",
        "\n",
        "if numero > 0:\n",
        "  print(\"É positivo\")\n",
        "else:\n",
        "  print(\"É negativo\")"
      ],
      "metadata": {
        "id": "CWa-gyuskcIr",
        "colab": {
          "base_uri": "https://localhost:8080/"
        },
        "outputId": "de3a68ea-6435-410a-e9ea-860ddaa4c616"
      },
      "execution_count": null,
      "outputs": [
        {
          "output_type": "stream",
          "name": "stdout",
          "text": [
            "-6\n",
            "É negativo\n"
          ]
        }
      ]
    },
    {
      "cell_type": "code",
      "source": [
        "#3. Faça um Programa que verifique se uma letra digitada é vogal ou consoante.\n",
        "\n",
        "letra = str(input())\n",
        "\n",
        "if letra in ['a', 'e', 'i', 'o', 'u']:\n",
        "  print(\"É vogal\")\n",
        "else:\n",
        "  print(\"É consoante\")"
      ],
      "metadata": {
        "colab": {
          "base_uri": "https://localhost:8080/"
        },
        "id": "zJOrMVJLF5pY",
        "outputId": "52bde208-acdc-4409-be02-2f4b9d1958d5"
      },
      "execution_count": null,
      "outputs": [
        {
          "output_type": "stream",
          "name": "stdout",
          "text": [
            "f\n",
            "É consoante\n"
          ]
        }
      ]
    },
    {
      "cell_type": "code",
      "source": [
        "#4. Faça um programa para a leitura de duas notas parciais de um aluno. O programa deve calcular a média alcançada por aluno e apresentar:\n",
        "# A mensagem \"Aprovado\", se a média alcançada for maior ou igual a sete;\n",
        "# A mensagem \"Reprovado\", se a média for menor do que sete;\n",
        "# A mensagem \"Aprovado com Distinção\", se a média for igual a dez.\n",
        "\n",
        "nota1 = float(input())\n",
        "nota2 = float(input())\n",
        "\n",
        "media = (nota1 + nota2) / 2\n",
        "\n",
        "if media >= 7.0 and media <= 9.9:\n",
        "  print('Aprovado')\n",
        "if media < 7.0:\n",
        "  print('Reprovado')\n",
        "if media == 10:\n",
        "  print('Aprovado com distinção')"
      ],
      "metadata": {
        "id": "bFnbPXQuTH57",
        "colab": {
          "base_uri": "https://localhost:8080/"
        },
        "outputId": "3ff1acab-3d72-4e8b-9d9b-55956f60084c"
      },
      "execution_count": null,
      "outputs": [
        {
          "output_type": "stream",
          "name": "stdout",
          "text": [
            "7\n",
            "7\n",
            "Aprovado\n"
          ]
        }
      ]
    },
    {
      "cell_type": "code",
      "source": [
        "#5. Faça um Programa que leia três números e mostre o maior deles.\n",
        "\n",
        "n1 = int(input())\n",
        "n2 = int(input())\n",
        "n3 = int(input())\n",
        "\n",
        "\n",
        "if n1 > n2 and n1 > n3:\n",
        "  maior = n1\n",
        "elif n2 > n3 and n2 > n1:\n",
        "  maior = n2\n",
        "else:\n",
        "  maior = n3\n",
        "print(maior)"
      ],
      "metadata": {
        "colab": {
          "base_uri": "https://localhost:8080/"
        },
        "id": "Rp1IsgNhG6qW",
        "outputId": "19d715f8-a3d9-4c92-bd11-8d8e4a239c4f"
      },
      "execution_count": null,
      "outputs": [
        {
          "output_type": "stream",
          "name": "stdout",
          "text": [
            "3\n",
            "4\n",
            "7\n",
            "7\n"
          ]
        }
      ]
    },
    {
      "cell_type": "code",
      "source": [
        "#6. Faça um Programa que leia três números e mostre o menor deles.\n",
        "\n",
        "n1 = int(input())\n",
        "n2 = int(input())\n",
        "n3 = int(input())\n",
        "\n",
        "\n",
        "if n1 < n2 and n1 < n3:\n",
        "  menor = n1\n",
        "elif n2 < n3 and n2 < n1:\n",
        "  menor = n2\n",
        "else:\n",
        "  menor = n3\n",
        "print(menor)"
      ],
      "metadata": {
        "id": "mW9opLD1TQ2B",
        "colab": {
          "base_uri": "https://localhost:8080/"
        },
        "outputId": "86a8e2e8-529c-4e79-cb22-3059f5a7e3df"
      },
      "execution_count": null,
      "outputs": [
        {
          "output_type": "stream",
          "name": "stdout",
          "text": [
            "2\n",
            "3\n",
            "4\n",
            "2\n"
          ]
        }
      ]
    },
    {
      "cell_type": "code",
      "source": [
        "#7. Faça um programa que pergunte o preço de três produtos e informe qual produto você deve comprar, sabendo que a decisão é sempre pelo mais barato.\n",
        "\n",
        "produto1 = float(input())\n",
        "produto2 = float(input())\n",
        "produto3 = float(input())\n",
        "\n",
        "if produto1 < produto2 and produto1 < produto3:\n",
        "  print(\"Produto 1\")\n",
        "elif produto2 < produto3 and produto2 < produto1:\n",
        "  print(\"Produto 2\")\n",
        "else:\n",
        "  print(\"Produto 3\")\n"
      ],
      "metadata": {
        "id": "2nHeJx_8TVuk",
        "colab": {
          "base_uri": "https://localhost:8080/"
        },
        "outputId": "59e44995-49d3-431d-863d-1414e8ffbe9a"
      },
      "execution_count": null,
      "outputs": [
        {
          "output_type": "stream",
          "name": "stdout",
          "text": [
            "20.00\n",
            "45.00\n",
            "3.00\n",
            "Produto 3\n"
          ]
        }
      ]
    },
    {
      "cell_type": "code",
      "source": [
        "#8. Faça um Programa que leia três números e mostre-os em ordem decrescente.\n",
        "\n",
        "n1 = int(input())\n",
        "n2 = int(input())\n",
        "n3 = int(input())\n",
        "\n",
        "if n1 > n2 and n1 > n3:\n",
        "  primeiro = n1\n",
        "  if n2 > n3:\n",
        "    segundo = n2\n",
        "    terceiro = n3\n",
        "  else:\n",
        "    segundo = n3\n",
        "    terceiro = n2\n",
        "elif n2 > n3 and n2 > n1:\n",
        "  primeiro = n2\n",
        "  if n1 > n3:\n",
        "    segundo = n1\n",
        "    terceiro = n3\n",
        "  else:\n",
        "    segundo = n3\n",
        "    terceiro = n1\n",
        "elif n3 > n2 and n3 > n1:\n",
        "  primeiro = n3\n",
        "  if n2 > n1:\n",
        "    segundo = n2\n",
        "    terceiro = n1\n",
        "  else:\n",
        "    segundo = n1\n",
        "    terceiro = n2\n",
        "print(primeiro, segundo, terceiro)"
      ],
      "metadata": {
        "colab": {
          "base_uri": "https://localhost:8080/"
        },
        "id": "gTzNpCT_HWPF",
        "outputId": "829a8674-95d1-4cb8-c0f4-cf6c08632283"
      },
      "execution_count": null,
      "outputs": [
        {
          "output_type": "stream",
          "name": "stdout",
          "text": [
            "3\n",
            "4\n",
            "6\n",
            "6 4 3\n"
          ]
        }
      ]
    },
    {
      "cell_type": "code",
      "source": [
        "#9. Faça um Programa que pergunte em que turno você estuda. Peça para digitar M-matutino ou V-Vespertino ou N- Noturno.\n",
        "#Imprima a mensagem \"Bom Dia!\", \"Boa Tarde!\" ou \"Boa Noite!\" ou \"Valor Inválido!\", conforme o caso.\n",
        "\n",
        "pergunta = str(input(\"Em que turno você estuda?\"))\n",
        "\n",
        "if pergunta == 'M':\n",
        "  print('Bom dia')\n",
        "elif pergunta == 'V':\n",
        "  print('Boa tarde')\n",
        "elif pergunta == 'N':\n",
        "  print('Boa noite')\n",
        "else:\n",
        "  print('Valor inválido')"
      ],
      "metadata": {
        "id": "bG1AP7W9Tc0h",
        "colab": {
          "base_uri": "https://localhost:8080/"
        },
        "outputId": "a440e89d-85a8-4059-e3fe-f8cf535ce976"
      },
      "execution_count": null,
      "outputs": [
        {
          "output_type": "stream",
          "name": "stdout",
          "text": [
            "Em que turno você estuda?N\n",
            "Boa noite\n"
          ]
        }
      ]
    },
    {
      "cell_type": "code",
      "source": [
        "#10. Faça um programa para o cálculo de uma folha de pagamento, sabendo que os descontos são do Imposto de Renda,\n",
        "#que depende do salário bruto (conforme tabela abaixo) e 10% para o INSS e que o FGTS corresponde a 11% do Salário Bruto,\n",
        "#mas não é descontado (é a empresa que deposita). O Salário Líquido corresponde ao Salário Bruto menos os descontos.\n",
        "#O programa deverá pedir ao usuário o valor da sua hora e a quantidade de horas trabalhadas no mês.\n",
        "#Desconto do IR:\n",
        "# - Salário Bruto até 900 (inclusive) - isento\n",
        "# - Salário Bruto até 1500 (inclusive) - desconto de 5%\n",
        "# - Salário Bruto até 2500 (inclusive) - desconto de 10%\n",
        "# - Salário Bruto acima de 2500 - desconto de 20% Imprima na tela as informações,\n",
        "#dispostas conforme o exemplo abaixo. No exemplo o valor da hora é 5 e a quantidade de hora é 220.\n",
        "\n",
        "#            Salário Bruto: (5 * 220)        : R$ 1100,00\n",
        "#            (-) IR (5%)                     : R$   55,00\n",
        "#            (-) INSS ( 10%)                 : R$  110,00\n",
        "#            FGTS (11%)                      : R$  121,00\n",
        "#            Total de descontos              : R$  165,00\n",
        "#            Salário Liquido                 : R$  935,00\n",
        "\n",
        "\n",
        "valor_hora = float(input(\"Digite quanto você recebe por hora: \"))\n",
        "horas_trabalhadas = float(input(\"Digite quantas horas você trabalhou esse mês: \"))\n",
        "salario_bruto = valor_hora * horas_trabalhadas\n",
        "if salario_bruto <= 900:\n",
        "    desconto_ir = 0.0\n",
        "elif salario_bruto <= 1500:\n",
        "    desconto_ir = 5\n",
        "elif salario_bruto <= 2500:\n",
        "    desconto_ir = 10\n",
        "else:\n",
        "    desconto_ir = 20\n",
        "\n",
        "IR = salario_bruto * (desconto_ir / 100)\n",
        "INSS = salario_bruto * (10 / 100)\n",
        "FGTS = salario_bruto * (11 / 100)\n",
        "total_de_descontos = IR + INSS\n",
        "salario_liquido = salario_bruto - total_de_descontos\n",
        "\n",
        "print('Salário Bruto: ', salario_bruto)\n",
        "print('(-) IR (5%): ',IR)\n",
        "print('(-) INSS ( 10%): ', INSS)\n",
        "print('FGTS (11%): ', FGTS)\n",
        "print('Total de descontos:', total_de_descontos)\n",
        "print('Salário Liquido: ', salario_liquido)\n",
        "\n",
        "\n"
      ],
      "metadata": {
        "id": "VcfuHwoqTou1",
        "colab": {
          "base_uri": "https://localhost:8080/"
        },
        "outputId": "898d6b1d-3eea-4b91-e4b5-c94e00596ed1"
      },
      "execution_count": null,
      "outputs": [
        {
          "output_type": "stream",
          "name": "stdout",
          "text": [
            "Digite quanto você recebe por hora: 30\n",
            "Digite quantas horas você trabalhou esse mês: 100\n",
            "Salário Bruto:  3000.0\n",
            "(-) IR (5%):  600.0\n",
            "(-) INSS ( 10%):  300.0\n",
            "FGTS (11%):  330.0\n",
            "Total de descontos: 900.0\n",
            "Salário Liquido:  2100.0\n"
          ]
        }
      ]
    },
    {
      "cell_type": "code",
      "source": [
        "#12. Faça um programa que lê as duas notas parciais obtidas por um aluno numa disciplina ao longo de um semestre,\n",
        "#e calcule a sua média. A atribuição de conceitos obedece à tabela abaixo:\n",
        "#   Média de Aproveitamento  Conceito\n",
        "#   Entre 9.0 e 10.0        A\n",
        "#   Entre 7.5 e 9.0         B\n",
        "#   Entre 6.0 e 7.5         C\n",
        "#   Entre 4.0 e 6.0         D\n",
        "#   Entre 4.0 e zero        E\n",
        "# O algoritmo deve mostrar na tela as notas, a média, o conceito correspondente e a mensagem “APROVADO” se o conceito for A, B ou C\n",
        "#ou “REPROVADO” se o conceito for D ou E.\n",
        "\n",
        "nota1 = float(input(\"Insira a primeira nota: \"))\n",
        "nota2 = float(input(\"Insira a segunda nota: \"))\n",
        "\n",
        "media = (nota1 + nota2) / 2\n",
        "\n",
        "mensagem = 'Aprovado'\n",
        "if media >= 9.0 and media <=10.0:\n",
        "  conceito = 'A'\n",
        "elif media >= 7.5 and media < 9.0:\n",
        "  conceito = 'B'\n",
        "elif media >= 6.0 and media < 7.5:\n",
        "  conceito = 'C'\n",
        "elif media >= 4.0 and media < 6.0:\n",
        "  conceito = 'D'\n",
        "  mensagem = 'Reprovado'\n",
        "else:\n",
        "  conceito = 'E'\n",
        "  mensagem = 'Reprovado'\n",
        "\n",
        "print(\"Nota 1: \", nota1)\n",
        "print(\"Nota 2: \", nota2)\n",
        "print(\"Média: \", media)\n",
        "print(\"Conceito: \", conceito)\n",
        "print(\"Mensagem: \", mensagem)"
      ],
      "metadata": {
        "id": "BO38_XwB8NAj",
        "colab": {
          "base_uri": "https://localhost:8080/"
        },
        "outputId": "15a204c7-a6f5-4c60-fc70-d148648e97b4"
      },
      "execution_count": null,
      "outputs": [
        {
          "output_type": "stream",
          "name": "stdout",
          "text": [
            "Insira a primeira nota10.0\n",
            "Insira a segunda nota5.0\n",
            "Nota 1:  10.0\n",
            "Nota 2:  5.0\n",
            "Média:  7.5\n",
            "Conceito:  B\n",
            "Mensagem:  Aprovado\n"
          ]
        }
      ]
    },
    {
      "cell_type": "code",
      "source": [
        "#13.Faça um Programa que peça os 3 lados de um triângulo. O programa deverá informar se os valores podem ser um triângulo. Indique, caso os lados formem um triângulo, se o mesmo é: equilátero, isósceles ou escaleno.\n",
        "#Dicas:\n",
        "# Três lados formam um triângulo quando a soma de quaisquer dois lados for menor que o terceiro;\n",
        "# Triângulo Equilátero: três lados iguais;\n",
        "# Triângulo Isósceles: quaisquer dois lados iguais;\n",
        "# Triângulo Escaleno: três lados diferentes;\n",
        "\n",
        "a = float(input('Insira o primeiro lado:'))\n",
        "b = float(input('Insira o segundo lado:'))\n",
        "c = float(input('Insira o terceiro lado:'))\n",
        "if a + b < c or a + c < b or b + c < a:\n",
        "  print('Não é um triângulo')\n",
        "elif a == b and a == c :\n",
        "  print('Triângulo equilátero')\n",
        "elif a==b or a==c or b==c:\n",
        "  print('Triângulo isósceles')\n",
        "else:\n",
        "  print('Triângulo escaleno')\n"
      ],
      "metadata": {
        "id": "QZRx5RUf8ZbG",
        "colab": {
          "base_uri": "https://localhost:8080/"
        },
        "outputId": "aaaf5a04-6add-4967-8b57-8d77ac97dd21"
      },
      "execution_count": null,
      "outputs": [
        {
          "output_type": "stream",
          "name": "stdout",
          "text": [
            "Insira o primeiro lado: 10\n",
            "Insira o segundo lado: 10\n",
            "Insira o terceiro lado: 10\n",
            "Triângulo equilátero\n"
          ]
        }
      ]
    },
    {
      "cell_type": "code",
      "source": [
        "#14. Faça um programa que faça 5 perguntas para uma pessoa sobre um crime. As perguntas são:\n",
        "# a.\"Telefonou para a vítima?\"\n",
        "# b.\"Esteve no local do crime?\"\n",
        "# c.\"Mora perto da vítima?\"\n",
        "# d.\"Devia para a vítima?\"\n",
        "# e.\"Já trabalhou com a vítima?\"\n",
        "# O programa deve no final emitir uma classificação sobre a participação da pessoa no crime.\n",
        "# Se a pessoa responder positivamente a 2 questões ela deve ser classificada como \"Suspeita\",\n",
        "#entre 3 e 4 como \"Cúmplice\" e 5 como \"Assassino\". Caso contrário, ele será classificado como \"Inocente\".\n",
        "\n",
        "cont = 0\n",
        "resposta1 = str(input(\"Telefonou para a vítima?\"))\n",
        "if resposta1 == 'Sim':\n",
        "  cont+= 1\n",
        "resposta2 = str(input(\"Esteve no local do crime?\"))\n",
        "if resposta2 == 'Sim':\n",
        "  cont+= 1\n",
        "resposta3 = str(input(\"Mora perto da vítima?\"))\n",
        "if resposta3 == 'Sim':\n",
        "  cont+= 1\n",
        "resposta4 = str(input(\"Devia para a vítima?\"))\n",
        "if resposta4 == 'Sim':\n",
        "  cont+= 1\n",
        "resposta5 = str(input(\"Já trabalhou com a vítima?\"))\n",
        "if resposta5 == 'Sim':\n",
        "  cont+= 1\n",
        "\n",
        "if cont == 2:\n",
        "  print(\"Suspeita\")\n",
        "elif cont == 3 or cont == 4:\n",
        "  print(\"Cúmplice\")\n",
        "elif cont == 5:\n",
        "  print(\"Assassino\")\n",
        "else:\n",
        "  print(\"Inocente\")"
      ],
      "metadata": {
        "id": "we-wyjyv8k59",
        "colab": {
          "base_uri": "https://localhost:8080/"
        },
        "outputId": "182cab79-570a-4c23-aad8-7384be26e01a"
      },
      "execution_count": null,
      "outputs": [
        {
          "output_type": "stream",
          "name": "stdout",
          "text": [
            "Telefonou para a vítima?Não\n",
            "Esteve no local do crime?Não\n",
            "Mora perto da vítima?Não\n",
            "Devia para a vítima?Não\n",
            "Já trabalhou com a vítima?Sim\n",
            "Inocente\n"
          ]
        }
      ]
    },
    {
      "cell_type": "markdown",
      "source": [
        "<font color='#FFD43B' size='5'>For</font>\n",
        "<br>\n",
        "Um loop for é usado para iterar sobre uma sequência (lista, tupla, dicionário, set, string). Com ele, podemos executar um conjunto de comandos para cada item de uma sequência.\n"
      ],
      "metadata": {
        "id": "C18WCV4FsSth"
      }
    },
    {
      "cell_type": "code",
      "source": [
        "#exemplo de loop em lista\n",
        "\n",
        "paises = [\"Brasil\", \"Estados Unidos\", \"Monaco\"]\n",
        "for pais in paises:\n",
        "  print(pais)\n",
        "\n",
        "#exemplo de loop em string\n",
        "#for x in \"Brasil\":\n",
        "#  print(x)\n"
      ],
      "metadata": {
        "id": "vboFOdhny5AX"
      },
      "execution_count": null,
      "outputs": []
    },
    {
      "cell_type": "markdown",
      "source": [
        "<font color='#4B8BBE' size='4'>break</font>"
      ],
      "metadata": {
        "id": "K08P0MiD9VT_"
      }
    },
    {
      "cell_type": "code",
      "source": [
        "#Utilizamos a instrução break quando queremos sair de um loop antes de completar seu ciclo\n",
        "\n",
        "paises = [\"França\", \"Alemanha\", \"Espanha\"]\n",
        "for pais in paises:\n",
        "  print(pais)\n",
        "  if pais == \"Alemanha\":\n",
        "    break\n",
        "\n",
        "#o mesmo exemplo, porém só imprimimos depois do break\n",
        "paises = [\"França\", \"Alemanha\", \"Espanha\"]\n",
        "for pais in paises:\n",
        "  if pais == \"Alemanha\":\n",
        "    break\n",
        "  print(pais)"
      ],
      "metadata": {
        "id": "azDVBRpv8i7Q",
        "colab": {
          "base_uri": "https://localhost:8080/"
        },
        "outputId": "49761392-3f66-48e6-8794-801c4e815b28"
      },
      "execution_count": 2,
      "outputs": [
        {
          "output_type": "stream",
          "name": "stdout",
          "text": [
            "França\n",
            "Alemanha\n",
            "França\n"
          ]
        }
      ]
    },
    {
      "cell_type": "markdown",
      "source": [
        "<font color='#4B8BBE' size='4'>continue</font>"
      ],
      "metadata": {
        "id": "ZcWTGFE69dKP"
      }
    },
    {
      "cell_type": "code",
      "source": [
        "#utilizamos a instrução continue quando queremos parar a iteração atual e continuar com o loop\n",
        "paises = [\"França\", \"Alemanha\", \"Espanha\"]\n",
        "for pais in paises:\n",
        "  if pais == \"Alemanha\":\n",
        "    print('Parei em Alemanha e continuei o loop')\n",
        "    continue\n",
        "  print(pais)"
      ],
      "metadata": {
        "id": "TXhDvQbf9hIM",
        "colab": {
          "base_uri": "https://localhost:8080/"
        },
        "outputId": "c5b9f11d-3917-46b5-a432-4f87b8b56dcd"
      },
      "execution_count": 3,
      "outputs": [
        {
          "output_type": "stream",
          "name": "stdout",
          "text": [
            "França\n",
            "Parei em Alemanha e continuei o loop\n",
            "Espanha\n"
          ]
        }
      ]
    },
    {
      "cell_type": "markdown",
      "source": [
        "<font color='#4B8BBE' size='4'>range()</font>"
      ],
      "metadata": {
        "id": "EAhWCAgK-Gmh"
      }
    },
    {
      "cell_type": "code",
      "source": [
        "#para iterar sobre um pedaço de código um número específico de vezes, utilizamos a função range()\n",
        "#a função range() retorna uma sequência de números, começando por padrão com 0 e incrementando com 1 e termina com um número específico\n",
        "\n",
        "#imprime os números de 0 a 5\n",
        "for x in range(6):\n",
        "  print(x)\n",
        "\n",
        "#imprime os números de 2 a 5\n",
        "for x in range(2, 6):\n",
        "  print(x)\n",
        "\n",
        "#imprime os números de 2 a 29, de 3 em 3\n",
        "for x in range(2, 30, 3):\n",
        "  print(x)"
      ],
      "metadata": {
        "id": "AjXhe2Db-GKK"
      },
      "execution_count": null,
      "outputs": []
    },
    {
      "cell_type": "markdown",
      "source": [
        "<font color='#4B8BBE' size='4'>else</font>"
      ],
      "metadata": {
        "id": "P4NpAHfk_dI4"
      }
    },
    {
      "cell_type": "code",
      "source": [
        "#a utilização de um else em um loop especifica uma parte de código a ser executada quando o loop acaba:\n",
        "for x in range(6):\n",
        "  print(x)\n",
        "else:\n",
        "  print(\"Acabou\")"
      ],
      "metadata": {
        "id": "LgPHiYNL_dzC"
      },
      "execution_count": null,
      "outputs": []
    },
    {
      "cell_type": "markdown",
      "source": [
        "<font color='#FFD43B' size='5'>While</font>\n",
        "<br>\n",
        "Com o loop while, podemos executar um conjunto de instruções enquanto uma condição é verdadeira.\n",
        "As instruções else, break e continue citadas acima podem ser utilizadas com while também."
      ],
      "metadata": {
        "id": "qB4-2FXW_zkj"
      }
    },
    {
      "cell_type": "code",
      "source": [
        "#exemplo:\n",
        "#imprima i enquanto i for menos que 6:\n",
        "i = 1\n",
        "while i < 6:\n",
        "  print(i)\n",
        "  i += 1"
      ],
      "metadata": {
        "id": "rZ8AW4bzABpS",
        "colab": {
          "base_uri": "https://localhost:8080/"
        },
        "outputId": "575a3b23-58a3-438e-eb61-166e3401c4cb"
      },
      "execution_count": 4,
      "outputs": [
        {
          "output_type": "stream",
          "name": "stdout",
          "text": [
            "1\n",
            "2\n",
            "3\n",
            "4\n",
            "5\n"
          ]
        }
      ]
    },
    {
      "cell_type": "code",
      "source": [
        "#Vamos programar juntos um pouco\n",
        "\n",
        "#Faça um programa que peça uma nota, entre zero e dez.\n",
        "#Mostre uma mensagem caso o valor seja inválido e continue pedindo até que o usuário informe um valor válido.\n",
        "\n",
        "invalido = True\n",
        "\n",
        "while invalido == True:\n",
        "  nota = int(input(\"Insira uma nota entre 0 e 10: \"))\n",
        "\n",
        "  if nota <= 10 and nota >= 0:\n",
        "    invalido = False\n",
        "    print('Valor válido')\n",
        "  else:\n",
        "    print('Valor inválido')"
      ],
      "metadata": {
        "id": "lXT9rnOOAePP",
        "colab": {
          "base_uri": "https://localhost:8080/"
        },
        "outputId": "f22b5a87-eae9-4d82-bb1f-baeefbd984ad"
      },
      "execution_count": 11,
      "outputs": [
        {
          "output_type": "stream",
          "name": "stdout",
          "text": [
            "Insira uma nota entre 0 e 10: 2\n",
            "Valor válido\n"
          ]
        }
      ]
    },
    {
      "cell_type": "code",
      "source": [
        "#Desenvolva um gerador de tabuada, capaz de gerar a tabuada de qualquer número\n",
        "#inteiro entre 1 a 10. O usuário deve informar de qual numero ele deseja ver a tabuada.\n",
        "#A saída deve ser conforme o exemplo abaixo:\n",
        "#Tabuada de 5:\n",
        "# 5 X 1 = 5\n",
        "# 5 X 2 = 10\n",
        "# ...\n",
        "# 5 X 10 = 50\n",
        "\n",
        "numero = int(input(\"Insira um número: \"))\n",
        "\n",
        "print(\"Tabuada do {}\".format(numero))\n",
        "for i in range(11):\n",
        "  resultado = i * numero\n",
        "  print(\"{} X {} = {}\".format(numero, i, resultado))"
      ],
      "metadata": {
        "id": "seRUlTZ4BRqt"
      },
      "execution_count": null,
      "outputs": []
    },
    {
      "cell_type": "markdown",
      "source": [
        "<font color='#FFD43B' size='5'>Exercícios</font>"
      ],
      "metadata": {
        "id": "KMEVszzpCrXA"
      }
    },
    {
      "cell_type": "code",
      "source": [
        "#VAMOS FAZER JUNTOS\n",
        "# 1 . O cardápio de uma lanchonete é o seguinte:\n",
        "# Especificação   Código  Preço\n",
        "# Cachorro Quente 100     R$ 1,20\n",
        "# Bauru Simples   101     R$ 1,30\n",
        "# Bauru com ovo   102     R$ 1,50\n",
        "# Hambúrguer      103     R$ 1,20\n",
        "# Cheeseburguer   104     R$ 1,30\n",
        "# Refrigerante    105     R$ 1,00\n",
        "# Faça um programa que leia o código dos itens pedidos e as quantidades desejadas.\n",
        "#Calcule e mostre o valor a ser pago por item (preço * quantidade) e o total geral do pedido.\n",
        "#Considere que o cliente deve informar quando o pedido deve ser encerrado.\n",
        "encerrado = False\n",
        "total = 0\n",
        "\n",
        "while encerrado == False:\n",
        "  cod_item = int(input(\"Insira o código do item: \"))\n",
        "  qtd = int(input(\"Insira a quantidade desejada: \"))\n",
        "\n",
        "  if cod_item == 100 or cod_item == 103:\n",
        "    preco = 1.20\n",
        "  elif cod_item == 101 or cod_item == 104:\n",
        "    preco = 1.30\n",
        "  elif cod_item == 102:\n",
        "    preco = 1.50\n",
        "  elif cod_item == 105:\n",
        "    preco = 1.00\n",
        "\n",
        "  valor_item = qtd * preco\n",
        "\n",
        "  total = total + valor_item\n",
        "\n",
        "  print(\"Total: \", total)\n",
        "\n",
        "  saida = input(\"Deseja encerrar a compra?\")\n",
        "if saida == 'S':\n",
        "    encerrado = True\n",
        "\n",
        "\n",
        "\n",
        "\n",
        "\n"
      ],
      "metadata": {
        "id": "Qn1pO3DfCrvi",
        "colab": {
          "base_uri": "https://localhost:8080/",
          "height": 442
        },
        "outputId": "4c7a6bef-b9ef-44d8-a98b-41ec1d59caeb"
      },
      "execution_count": 13,
      "outputs": [
        {
          "name": "stdout",
          "output_type": "stream",
          "text": [
            "Insira o código do item: 100\n",
            "Insira a quantidade desejada: 1\n",
            "Total:  1.2\n",
            "Deseja encerrar a compra?s\n"
          ]
        },
        {
          "output_type": "error",
          "ename": "KeyboardInterrupt",
          "evalue": "Interrupted by user",
          "traceback": [
            "\u001b[0;31m---------------------------------------------------------------------------\u001b[0m",
            "\u001b[0;31mKeyboardInterrupt\u001b[0m                         Traceback (most recent call last)",
            "\u001b[0;32m<ipython-input-13-c9f9eeac2b4a>\u001b[0m in \u001b[0;36m<cell line: 16>\u001b[0;34m()\u001b[0m\n\u001b[1;32m     15\u001b[0m \u001b[0;34m\u001b[0m\u001b[0m\n\u001b[1;32m     16\u001b[0m \u001b[0;32mwhile\u001b[0m \u001b[0mencerrado\u001b[0m \u001b[0;34m==\u001b[0m \u001b[0;32mFalse\u001b[0m\u001b[0;34m:\u001b[0m\u001b[0;34m\u001b[0m\u001b[0;34m\u001b[0m\u001b[0m\n\u001b[0;32m---> 17\u001b[0;31m   \u001b[0mcod_item\u001b[0m \u001b[0;34m=\u001b[0m \u001b[0mint\u001b[0m\u001b[0;34m(\u001b[0m\u001b[0minput\u001b[0m\u001b[0;34m(\u001b[0m\u001b[0;34m\"Insira o código do item: \"\u001b[0m\u001b[0;34m)\u001b[0m\u001b[0;34m)\u001b[0m\u001b[0;34m\u001b[0m\u001b[0;34m\u001b[0m\u001b[0m\n\u001b[0m\u001b[1;32m     18\u001b[0m   \u001b[0mqtd\u001b[0m \u001b[0;34m=\u001b[0m \u001b[0mint\u001b[0m\u001b[0;34m(\u001b[0m\u001b[0minput\u001b[0m\u001b[0;34m(\u001b[0m\u001b[0;34m\"Insira a quantidade desejada: \"\u001b[0m\u001b[0;34m)\u001b[0m\u001b[0;34m)\u001b[0m\u001b[0;34m\u001b[0m\u001b[0;34m\u001b[0m\u001b[0m\n\u001b[1;32m     19\u001b[0m \u001b[0;34m\u001b[0m\u001b[0m\n",
            "\u001b[0;32m/usr/local/lib/python3.10/dist-packages/ipykernel/kernelbase.py\u001b[0m in \u001b[0;36mraw_input\u001b[0;34m(self, prompt)\u001b[0m\n\u001b[1;32m    849\u001b[0m                 \u001b[0;34m\"raw_input was called, but this frontend does not support input requests.\"\u001b[0m\u001b[0;34m\u001b[0m\u001b[0;34m\u001b[0m\u001b[0m\n\u001b[1;32m    850\u001b[0m             )\n\u001b[0;32m--> 851\u001b[0;31m         return self._input_request(str(prompt),\n\u001b[0m\u001b[1;32m    852\u001b[0m             \u001b[0mself\u001b[0m\u001b[0;34m.\u001b[0m\u001b[0m_parent_ident\u001b[0m\u001b[0;34m,\u001b[0m\u001b[0;34m\u001b[0m\u001b[0;34m\u001b[0m\u001b[0m\n\u001b[1;32m    853\u001b[0m             \u001b[0mself\u001b[0m\u001b[0;34m.\u001b[0m\u001b[0m_parent_header\u001b[0m\u001b[0;34m,\u001b[0m\u001b[0;34m\u001b[0m\u001b[0;34m\u001b[0m\u001b[0m\n",
            "\u001b[0;32m/usr/local/lib/python3.10/dist-packages/ipykernel/kernelbase.py\u001b[0m in \u001b[0;36m_input_request\u001b[0;34m(self, prompt, ident, parent, password)\u001b[0m\n\u001b[1;32m    893\u001b[0m             \u001b[0;32mexcept\u001b[0m \u001b[0mKeyboardInterrupt\u001b[0m\u001b[0;34m:\u001b[0m\u001b[0;34m\u001b[0m\u001b[0;34m\u001b[0m\u001b[0m\n\u001b[1;32m    894\u001b[0m                 \u001b[0;31m# re-raise KeyboardInterrupt, to truncate traceback\u001b[0m\u001b[0;34m\u001b[0m\u001b[0;34m\u001b[0m\u001b[0m\n\u001b[0;32m--> 895\u001b[0;31m                 \u001b[0;32mraise\u001b[0m \u001b[0mKeyboardInterrupt\u001b[0m\u001b[0;34m(\u001b[0m\u001b[0;34m\"Interrupted by user\"\u001b[0m\u001b[0;34m)\u001b[0m \u001b[0;32mfrom\u001b[0m \u001b[0;32mNone\u001b[0m\u001b[0;34m\u001b[0m\u001b[0;34m\u001b[0m\u001b[0m\n\u001b[0m\u001b[1;32m    896\u001b[0m             \u001b[0;32mexcept\u001b[0m \u001b[0mException\u001b[0m \u001b[0;32mas\u001b[0m \u001b[0me\u001b[0m\u001b[0;34m:\u001b[0m\u001b[0;34m\u001b[0m\u001b[0;34m\u001b[0m\u001b[0m\n\u001b[1;32m    897\u001b[0m                 \u001b[0mself\u001b[0m\u001b[0;34m.\u001b[0m\u001b[0mlog\u001b[0m\u001b[0;34m.\u001b[0m\u001b[0mwarning\u001b[0m\u001b[0;34m(\u001b[0m\u001b[0;34m\"Invalid Message:\"\u001b[0m\u001b[0;34m,\u001b[0m \u001b[0mexc_info\u001b[0m\u001b[0;34m=\u001b[0m\u001b[0;32mTrue\u001b[0m\u001b[0;34m)\u001b[0m\u001b[0;34m\u001b[0m\u001b[0;34m\u001b[0m\u001b[0m\n",
            "\u001b[0;31mKeyboardInterrupt\u001b[0m: Interrupted by user"
          ]
        }
      ]
    },
    {
      "cell_type": "code",
      "source": [
        "#2. Faça um programa que leia um nome de usuário e a sua senha e não aceite a senha igual ao nome do usuário, mostrando uma mensagem de erro e voltando a pedir as informações.\n",
        "\n",
        "login = input(\"Login: \")\n",
        "senha = input(\"Senha: \")\n",
        "\n",
        "while login == senha:\n",
        "  print(\"Sua senha deve ser diferente do login\")\n",
        "  senha = input(\"Senha\")\n",
        "\n",
        "print(\"Cadastro aprovado\")"
      ],
      "metadata": {
        "id": "g_ZbpFXEGwc3",
        "colab": {
          "base_uri": "https://localhost:8080/",
          "height": 424
        },
        "outputId": "4850861e-be8d-434a-f82a-475f32403cbc"
      },
      "execution_count": 15,
      "outputs": [
        {
          "output_type": "stream",
          "name": "stdout",
          "text": [
            "Login: r\n",
            "Senha: r\n",
            "Sua senha deve ser diferente do login\n"
          ]
        },
        {
          "output_type": "error",
          "ename": "KeyboardInterrupt",
          "evalue": "Interrupted by user",
          "traceback": [
            "\u001b[0;31m---------------------------------------------------------------------------\u001b[0m",
            "\u001b[0;31mKeyboardInterrupt\u001b[0m                         Traceback (most recent call last)",
            "\u001b[0;32m<ipython-input-15-e5529233a9c7>\u001b[0m in \u001b[0;36m<cell line: 6>\u001b[0;34m()\u001b[0m\n\u001b[1;32m      6\u001b[0m \u001b[0;32mwhile\u001b[0m \u001b[0mlogin\u001b[0m \u001b[0;34m==\u001b[0m \u001b[0msenha\u001b[0m\u001b[0;34m:\u001b[0m\u001b[0;34m\u001b[0m\u001b[0;34m\u001b[0m\u001b[0m\n\u001b[1;32m      7\u001b[0m   \u001b[0mprint\u001b[0m\u001b[0;34m(\u001b[0m\u001b[0;34m\"Sua senha deve ser diferente do login\"\u001b[0m\u001b[0;34m)\u001b[0m\u001b[0;34m\u001b[0m\u001b[0;34m\u001b[0m\u001b[0m\n\u001b[0;32m----> 8\u001b[0;31m   \u001b[0msenha\u001b[0m \u001b[0;34m=\u001b[0m \u001b[0minput\u001b[0m\u001b[0;34m(\u001b[0m\u001b[0;34m\"Senha\"\u001b[0m\u001b[0;34m)\u001b[0m\u001b[0;34m\u001b[0m\u001b[0;34m\u001b[0m\u001b[0m\n\u001b[0m\u001b[1;32m      9\u001b[0m \u001b[0;34m\u001b[0m\u001b[0m\n\u001b[1;32m     10\u001b[0m \u001b[0mprint\u001b[0m\u001b[0;34m(\u001b[0m\u001b[0;34m\"Cadastro aprovado\"\u001b[0m\u001b[0;34m)\u001b[0m\u001b[0;34m\u001b[0m\u001b[0;34m\u001b[0m\u001b[0m\n",
            "\u001b[0;32m/usr/local/lib/python3.10/dist-packages/ipykernel/kernelbase.py\u001b[0m in \u001b[0;36mraw_input\u001b[0;34m(self, prompt)\u001b[0m\n\u001b[1;32m    849\u001b[0m                 \u001b[0;34m\"raw_input was called, but this frontend does not support input requests.\"\u001b[0m\u001b[0;34m\u001b[0m\u001b[0;34m\u001b[0m\u001b[0m\n\u001b[1;32m    850\u001b[0m             )\n\u001b[0;32m--> 851\u001b[0;31m         return self._input_request(str(prompt),\n\u001b[0m\u001b[1;32m    852\u001b[0m             \u001b[0mself\u001b[0m\u001b[0;34m.\u001b[0m\u001b[0m_parent_ident\u001b[0m\u001b[0;34m,\u001b[0m\u001b[0;34m\u001b[0m\u001b[0;34m\u001b[0m\u001b[0m\n\u001b[1;32m    853\u001b[0m             \u001b[0mself\u001b[0m\u001b[0;34m.\u001b[0m\u001b[0m_parent_header\u001b[0m\u001b[0;34m,\u001b[0m\u001b[0;34m\u001b[0m\u001b[0;34m\u001b[0m\u001b[0m\n",
            "\u001b[0;32m/usr/local/lib/python3.10/dist-packages/ipykernel/kernelbase.py\u001b[0m in \u001b[0;36m_input_request\u001b[0;34m(self, prompt, ident, parent, password)\u001b[0m\n\u001b[1;32m    893\u001b[0m             \u001b[0;32mexcept\u001b[0m \u001b[0mKeyboardInterrupt\u001b[0m\u001b[0;34m:\u001b[0m\u001b[0;34m\u001b[0m\u001b[0;34m\u001b[0m\u001b[0m\n\u001b[1;32m    894\u001b[0m                 \u001b[0;31m# re-raise KeyboardInterrupt, to truncate traceback\u001b[0m\u001b[0;34m\u001b[0m\u001b[0;34m\u001b[0m\u001b[0m\n\u001b[0;32m--> 895\u001b[0;31m                 \u001b[0;32mraise\u001b[0m \u001b[0mKeyboardInterrupt\u001b[0m\u001b[0;34m(\u001b[0m\u001b[0;34m\"Interrupted by user\"\u001b[0m\u001b[0;34m)\u001b[0m \u001b[0;32mfrom\u001b[0m \u001b[0;32mNone\u001b[0m\u001b[0;34m\u001b[0m\u001b[0;34m\u001b[0m\u001b[0m\n\u001b[0m\u001b[1;32m    896\u001b[0m             \u001b[0;32mexcept\u001b[0m \u001b[0mException\u001b[0m \u001b[0;32mas\u001b[0m \u001b[0me\u001b[0m\u001b[0;34m:\u001b[0m\u001b[0;34m\u001b[0m\u001b[0;34m\u001b[0m\u001b[0m\n\u001b[1;32m    897\u001b[0m                 \u001b[0mself\u001b[0m\u001b[0;34m.\u001b[0m\u001b[0mlog\u001b[0m\u001b[0;34m.\u001b[0m\u001b[0mwarning\u001b[0m\u001b[0;34m(\u001b[0m\u001b[0;34m\"Invalid Message:\"\u001b[0m\u001b[0;34m,\u001b[0m \u001b[0mexc_info\u001b[0m\u001b[0;34m=\u001b[0m\u001b[0;32mTrue\u001b[0m\u001b[0;34m)\u001b[0m\u001b[0;34m\u001b[0m\u001b[0;34m\u001b[0m\u001b[0m\n",
            "\u001b[0;31mKeyboardInterrupt\u001b[0m: Interrupted by user"
          ]
        }
      ]
    },
    {
      "cell_type": "code",
      "source": [
        "#3. Faça um programa que leia e valide as seguintes informações:\n",
        "# Nome: maior que 3 caracteres;\n",
        "# Idade: entre 0 e 150;\n",
        "# Salário: maior que zero;\n",
        "# Sexo: 'f' ou 'm';\n",
        "# Estado Civil: 's', 'c', 'v', 'd';\n",
        "# Use a função len(string) para saber o tamanho de um texto (número de caracteres).\n",
        "nome = input(\"Qual seu nome [mínimo de 4 caracteres]:\")\n",
        "idade = int(input(\"Sua idade: \"))\n",
        "salario = float(input(\"Salário: \"))\n",
        "sexo = input(\"Sexo ('f' para feminino ou 'm' para masculino): \")\n",
        "civil = input(\"Estado civil (s, c, v ou d): \")\n",
        "\n",
        "while len(nome) <= 3:\n",
        "  nome = input(\"Seu nome deve ter mais do que 3 caracteres: \")\n",
        "\n",
        "while idade < 0 or idade > 150:\n",
        "  idade = int(input(\"A idade válida é entre 0 e 150 anos: \"))\n",
        "\n",
        "while salario < 0:\n",
        "  salario = float(\"Insira um valor válido: \")\n",
        "while sexo != 'f' and sexo != 'm':\n",
        "  sexo = input(\"Insira f ou m: \")\n",
        "\n",
        "while civil!= 's' and civil!='c' and civil!='v' and civil!='d':\n",
        "  civil = input(\"Deve ser s,c,v ou d:\")\n",
        "\n"
      ],
      "metadata": {
        "id": "_bGOj7wsG0sX",
        "colab": {
          "base_uri": "https://localhost:8080/",
          "height": 273
        },
        "outputId": "ca24ab5d-da7d-43e7-9f16-fd3cc8b32683"
      },
      "execution_count": 16,
      "outputs": [
        {
          "name": "stdout",
          "output_type": "stream",
          "text": [
            "Qual seu nome [mínimo de 4 caracteres]:roi\n",
            "Sua idade: 33\n",
            "Salário: mil\n"
          ]
        },
        {
          "output_type": "error",
          "ename": "ValueError",
          "evalue": "could not convert string to float: 'mil'",
          "traceback": [
            "\u001b[0;31m---------------------------------------------------------------------------\u001b[0m",
            "\u001b[0;31mValueError\u001b[0m                                Traceback (most recent call last)",
            "\u001b[0;32m<ipython-input-16-47ae239c8d67>\u001b[0m in \u001b[0;36m<cell line: 10>\u001b[0;34m()\u001b[0m\n\u001b[1;32m      8\u001b[0m \u001b[0mnome\u001b[0m \u001b[0;34m=\u001b[0m \u001b[0minput\u001b[0m\u001b[0;34m(\u001b[0m\u001b[0;34m\"Qual seu nome [mínimo de 4 caracteres]:\"\u001b[0m\u001b[0;34m)\u001b[0m\u001b[0;34m\u001b[0m\u001b[0;34m\u001b[0m\u001b[0m\n\u001b[1;32m      9\u001b[0m \u001b[0midade\u001b[0m \u001b[0;34m=\u001b[0m \u001b[0mint\u001b[0m\u001b[0;34m(\u001b[0m\u001b[0minput\u001b[0m\u001b[0;34m(\u001b[0m\u001b[0;34m\"Sua idade: \"\u001b[0m\u001b[0;34m)\u001b[0m\u001b[0;34m)\u001b[0m\u001b[0;34m\u001b[0m\u001b[0;34m\u001b[0m\u001b[0m\n\u001b[0;32m---> 10\u001b[0;31m \u001b[0msalario\u001b[0m \u001b[0;34m=\u001b[0m \u001b[0mfloat\u001b[0m\u001b[0;34m(\u001b[0m\u001b[0minput\u001b[0m\u001b[0;34m(\u001b[0m\u001b[0;34m\"Salário: \"\u001b[0m\u001b[0;34m)\u001b[0m\u001b[0;34m)\u001b[0m\u001b[0;34m\u001b[0m\u001b[0;34m\u001b[0m\u001b[0m\n\u001b[0m\u001b[1;32m     11\u001b[0m \u001b[0msexo\u001b[0m \u001b[0;34m=\u001b[0m \u001b[0minput\u001b[0m\u001b[0;34m(\u001b[0m\u001b[0;34m\"Sexo ('f' para feminino ou 'm' para masculino): \"\u001b[0m\u001b[0;34m)\u001b[0m\u001b[0;34m\u001b[0m\u001b[0;34m\u001b[0m\u001b[0m\n\u001b[1;32m     12\u001b[0m \u001b[0mcivil\u001b[0m \u001b[0;34m=\u001b[0m \u001b[0minput\u001b[0m\u001b[0;34m(\u001b[0m\u001b[0;34m\"Estado civil (s, c, v ou d): \"\u001b[0m\u001b[0;34m)\u001b[0m\u001b[0;34m\u001b[0m\u001b[0;34m\u001b[0m\u001b[0m\n",
            "\u001b[0;31mValueError\u001b[0m: could not convert string to float: 'mil'"
          ]
        }
      ]
    },
    {
      "cell_type": "code",
      "source": [
        "#4. Faça um programa que leia 'n' números (maior que um), informe o maior, a soma e a média dos números.\n",
        "\n",
        "numeros = int(input(\"Quantos números deseja inserir?\"))\n",
        "\n",
        "primeiro = int(input(\"Número 1: \"))\n",
        "\n",
        "count = 1\n",
        "maior = primeiro\n",
        "soma = primeiro\n",
        "\n",
        "while count < numeros:\n",
        "  count += 1\n",
        "  temp = int(input(\"Número:\" % count))\n",
        "  soma += temp\n",
        "  if temp > maior:\n",
        "    maior = temp\n",
        "\n",
        "media = soma / numeros\n",
        "print(\"Soma\", soma)\n",
        "print(\"Maior\", maior)\n",
        "print(\"Média:\", (soma/numeros))"
      ],
      "metadata": {
        "id": "htwER2krHCFH",
        "colab": {
          "base_uri": "https://localhost:8080/"
        },
        "outputId": "a9fcacaa-1bc5-4338-ab36-4abdad4735b1"
      },
      "execution_count": 18,
      "outputs": [
        {
          "output_type": "stream",
          "name": "stdout",
          "text": [
            "Quantos números deseja inserir?1\n",
            "Número 1: 1\n",
            "Soma 1\n",
            "Maior 1\n",
            "Média: 1.0\n"
          ]
        }
      ]
    },
    {
      "cell_type": "code",
      "source": [
        "#5. Desenvolver um programa para verificar a nota do aluno em uma prova com 10 questões, o programa deve perguntar ao aluno a resposta de cada questão e ao final\n",
        "#comparar com o gabarito da prova e assim calcular o total de acertos e a nota (atribuir 1 ponto por resposta certa).\n",
        "#Após cada aluno utilizar o sistema deve ser feita uma pergunta se outro aluno vai utilizar o sistema. Após todos os alunos terem respondido informar:\n",
        "# Maior e Menor Acerto;\n",
        "# Total de Alunos que utilizaram o sistema;\n",
        "# A Média das Notas da Turma.\n",
        "# Gabarito da Prova:\n",
        "\n",
        "# 01 - A\n",
        "# 02 - B\n",
        "# 03 - C\n",
        "# 04 - D\n",
        "# 05 - E\n",
        "# 06 - E\n",
        "# 07 - D\n",
        "# 08 - C\n",
        "# 09 - B\n",
        "# 10 - A\n",
        "utilizando = True\n",
        "contador_aluno = 0\n",
        "soma = 0\n",
        "while utilizando == True:\n",
        "  contador_aluno += 1\n",
        "  nota = 0\n",
        "  resposta1 = str(input(\"Resposta 1: \"))\n",
        "  if resposta1 == 'A':\n",
        "    nota += 1\n",
        "  resposta2 = str(input(\"Resposta 2: \"))\n",
        "  if resposta2 == 'B':\n",
        "    nota += 1\n",
        "  resposta3 = str(input(\"Resposta 3: \"))\n",
        "  if resposta3 == 'C':\n",
        "    nota += 1\n",
        "  resposta4 = str(input(\"Resposta 4: \"))\n",
        "  if resposta4 == 'D':\n",
        "    nota += 1\n",
        "  resposta5 = str(input(\"Resposta 5: \"))\n",
        "  if resposta5 == 'E':\n",
        "    nota += 1\n",
        "if resposta5 == 'E':\n",
        "    nota += 1\n",
        "    resposta6 = str(input(\"Resposta 6: \"))\n",
        "if resposta6 == 'E':\n",
        "    nota += 1\n",
        "    resposta7 = str(input(\"Resposta 7: \"))\n",
        "if resposta7 == 'D':\n",
        "    nota += 1\n",
        "    resposta8 = str(input(\"Resposta 8: \"))\n",
        "if resposta8 == 'C':\n",
        "    nota += 1\n",
        "    resposta9 = str(input(\"Resposta 9: \"))\n",
        "if resposta9 == 'B':\n",
        "    nota += 1\n",
        "    resposta10 = str(input(\"Resposta 10: \"))\n",
        "if resposta10 == 'A':\n",
        "    nota += 1\n",
        "if contador_aluno == 1:\n",
        "    maiornota = nota\n",
        "    menornota = nota\n",
        "if nota>maiornota:\n",
        "    maiornota = nota\n",
        "if nota<menornota:\n",
        "    menornota = nota\n",
        "soma = soma + nota\n",
        "querer = str(input('Deseja continuar utilizando o sistema?'))\n",
        "if querer != \"Sim\":\n",
        "    utilizando = False\n",
        "\n",
        "media = soma/contador_aluno\n",
        "print('Maior acerto:',maiornota)\n",
        "print('Menor acerto:',menornota)\n",
        "print('Média da turma:',media)\n",
        "print('Gabarito  da prova:\\n1-A\\n2-B\\n3-C\\n4-D\\n5-E\\n6-E\\n7-D\\n8-C\\n9-B\\n10-A')"
      ],
      "metadata": {
        "id": "3kWc3Ix1H0EA"
      },
      "execution_count": null,
      "outputs": []
    }
  ]
}